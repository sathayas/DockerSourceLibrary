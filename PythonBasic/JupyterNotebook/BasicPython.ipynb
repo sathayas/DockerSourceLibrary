{
 "cells": [
  {
   "cell_type": "markdown",
   "metadata": {},
   "source": [
    "<p style='text-align:center'>\n",
    "<b>Python Crash Course</b>, Spring 2019\n",
    "\n",
    "\n",
    "<img style='width: 500px; padding: 0px;' src='https://github.com/sathayas/DockerSourceLibrary/blob/master/PythonBasic/JupyterNotebook/Images/Intro_HarryPotter.jpg?raw=true' alt='Harry Potter Python joke'/>\n",
    "\n",
    "</p>\n",
    "\n",
    "<p style='text-align:center; font-size:40px; margin-bottom: 30px;'><b>Basics of Python coding</b></p>\n",
    "\n",
    "<p style='text-align:center; font-size:18px; margin-bottom: 32px;'><b>January, 2019</b></p>\n",
    "\n",
    "<hr style='height:5px;border:none' />"
   ]
  },
  {
   "cell_type": "markdown",
   "metadata": {},
   "source": [
    "# Intro\n",
    "<hr style=\"height:1px;border:none\" />\n",
    "\n",
    "This tutorial is designed for:\n",
    "* Those who have learned Python before, but need a refresher course\n",
    "* Those who have never learned Python, but will be taking one of my classes and need some basics of Python coding.\n",
    "\n",
    "***This tutorial does not make you an expert Python coder***. But this tutorial will give you some hands on experience with Python coding. ***I highly recommend working on exercises, rather than reading the materials***. If you need any additional information about particular topics, then you will be able to find a link to my course notes from an actual Intro Python coding class."
   ]
  },
  {
   "cell_type": "markdown",
   "metadata": {},
   "source": [
    "# Getting started\n",
    "<hr style=\"height:1px;border:none\" />\n",
    "\n",
    "## Getting Python\n",
    "\n",
    "To follow the materials presented during this tutorial, you need **Python 3** on your computer. I recommend Python 3.6 or later (***no Python 2.7 please, as the syntax is somewhat different***). \n",
    "\n",
    "## *If you have Python 3...*\n",
    "\n",
    "Great! You are almost ready to go. Make sure that these libraries are installed along with your Python:\n",
    "* `NumPy`\n",
    "* `SciPy`\n",
    "* `Matplotlib`\n",
    "* `Pandas`\n",
    "* `Jupyter`\n",
    "\n",
    "If you don't have any of these, then you can install them using **`conda`** (Anaconda Python) or **`pip3`** (all other Python distributions).\n",
    "\n",
    "\n",
    "## *If you don't have Python 3...*\n",
    "\n",
    "If you do not have Python 3 installed on your computer, then I recommend using **Docker**. Docker is a software tool that lets you run a collection of software packages and libraries, known as  a **Docker image**, as if you are running a virtual machine (a computer inside your computer). A Docker image is self-contained, so you do not have to do any complicated installation processes (except Docker). "
   ]
  },
  {
   "cell_type": "markdown",
   "metadata": {},
   "source": [
    "### Getting Docker on your computer\n",
    "\n",
    "First, your computer has to have **Docker** installed, if it has not been installed already. If your computer is relatively new, then you can download and install **Docker for Windows** or **Docker for Mac**. The link for downloading, as well as the documentation for installation are available at:\n",
    "\n",
    "  * [Docker for Windows](https://docs.docker.com/docker-for-windows/install/)\n",
    "  * [Docker for Mac](https://docs.docker.com/docker-for-mac/install/)\n",
    "\n",
    "If your computer is somewhat old (like mine), then I recommend installing **Docker Toolbox** instead. The download link and the documentation are available at:\n",
    "\n",
    "  * [Docker Toolbox for Windows](https://docs.docker.com/toolbox/toolbox_install_windows/)\n",
    "  * [Docker Toolbox for Mac](https://docs.docker.com/toolbox/toolbox_install_mac/)\n",
    "\n",
    "Once Docker is installed on your computer, you can run docker commands on a bash-style shell (i.e., Linux-style terminal), most likely via the Command Prompt (Windows) or the Terminal (Mac). See the corresponding documentation from the links above. To test the installation, run the following command:\n",
    "```\n",
    "docker run hello-world\n",
    "```\n",
    "If Docker is correctly installed on your computer, you should see a message:\n",
    "```\n",
    "\n",
    "Hello from Docker!\n",
    "This message shows that your installation appears to be working correctly.\n",
    "\n",
    "To generate this message, Docker took the following steps:\n",
    " 1. The Docker client contacted the Docker daemon.\n",
    " 2. The Docker daemon pulled the \"hello-world\" image from the Docker Hub.\n",
    "    (amd64)\n",
    " 3. The Docker daemon created a new container from that image which runs the\n",
    "    executable that produces the output you are currently reading.\n",
    " 4. The Docker daemon streamed that output to the Docker client, which sent it\n",
    "    to your terminal.\n",
    "\n",
    "...\n",
    "```\n",
    "\n",
    "*If you are a Linux user, then the installation of Docker is more complicated, and varies depending on your distribution. I recommend consulting the [Docker website](https://docs.docker.com/install/) for more details.*"
   ]
  },
  {
   "cell_type": "markdown",
   "metadata": {},
   "source": [
    "### Getting the Docker image\n",
    "\n",
    "Now that Docker is installed on your computer, you are ready to download a **Docker image**. A Docker image is a bundle of software packages and libraries. Thanks to Docker, installing these software tools and libraries is a breeze! Simply run the following command:\n",
    "```\n",
    "docker pull sathayas/ubuntu-python3\n",
    "```\n",
    "To verify if the Docker image has been correctly downloaded, run the following command:\n",
    "```\n",
    "docker images\n",
    "```\n",
    "Then you should see an output like this:\n",
    "```\n",
    "REPOSITORY                TAG                 IMAGE ID            CREATED             SIZE\n",
    "sathayas/ubuntu-python3   latest              50fd7e8bb21c        25 hours ago        872MB\n",
    "```\n",
    "\n",
    "Just FYI, this docker image `sathayas/ubuntu-python3` contains the following:\n",
    "* `Numpy`\n",
    "* `Scipy`\n",
    "* `Matplotlib`\n",
    "* `Pandas`\n",
    "\n",
    "In addition, `IPython` and `Jupyter` are also available. "
   ]
  },
  {
   "cell_type": "markdown",
   "metadata": {},
   "source": [
    "## Running the Docker image\n",
    "\n",
    "To run the Python Docker image, run the command:\n",
    "```\n",
    "docker run -it --rm -p 8888:8888 ubuntu-python3\n",
    "```\n",
    "And this should change the prompt on your terminal to a prompt of an Ubuntu virtual machine (a popular distribution of Linux). From here, you can start IPython (an interactive Python shell) by the command **`ipython`**, which invokes an IPython session:\n",
    "```\n",
    "root@6cb65af29966:/tmp# ipython\n",
    "Python 3.6.7 (default, Oct 22 2018, 11:32:17) \n",
    "Type 'copyright', 'credits' or 'license' for more information\n",
    "IPython 7.2.0 -- An enhanced Interactive Python. Type '?' for help.\n",
    "\n",
    "In [1]:                                                                                                                                                        \n",
    "\n",
    "```\n",
    "You can copy and paste a Python code from a Python editor on your computer. *One downside of this image is that you cannot generate any graphical outputs to be displayed on the screen.* If you want to generate graphical outputs, you need to run Jupyter notebook.\n"
   ]
  },
  {
   "cell_type": "markdown",
   "metadata": {},
   "source": [
    "## Running Jupyter notebook\n",
    "\n",
    "**Jupyter notebook** lets you edit and run Python codes embedded in a notebook document via your web browser. You can display images and plots generated by Python inside your browser. To start Jupyter notebook, you can run the command **`jnb`** from your terminal. This command is a shorthand notation (i.e., alias) for the command:\n",
    "```\n",
    "jupyter notebook --ip 0.0.0.0 --no-browser --allow-root\n",
    "```\n",
    "Then you will see a message on your terminal like this one:\n",
    "```\n",
    "...\n",
    "    To access the notebook, open this file in a browser:\n",
    "        file:///root/.local/share/jupyter/runtime/nbserver-10-open.html\n",
    "    Or copy and paste one of these URLs:\n",
    "        http://(ff3070aa4710 or 127.0.0.1):8888/?token=713283a6a2ec82df89844332699c31e3567910a6274a9e14\n",
    "```\n",
    "Then open your favorite web browser on your computer, and set the URL to either:\n",
    "* `http://192.168.99.100:8888/?token=713283a6a2ec82df89844332699c31e3567910a6274a9e14`\n",
    "* `http://localhost:8888/?token=713283a6a2ec82df89844332699c31e3567910a6274a9e14`\n",
    "\n",
    "The important thing to note here is that the string (such as `?token=713283a6a2ec82df89844332699c31e3567910a6274a9e14`) needs to be copied from the terminal to you web browser. This string identifies which session of Jupyter notebook is displayed on your web browser.\n",
    "\n",
    "Now you should be able to open this tutorial (**`BasicPython.ipynb`**) located under the **`JupyterNotebook`** folder. *We will go over how to use Jupyter notebook later.*\n",
    "\n"
   ]
  },
  {
   "cell_type": "markdown",
   "metadata": {},
   "source": [
    "## Mounting a folder\n",
    "\n",
    "When you run a Docker image (referred as a **Docker container**) on your computer, the resulting Docker container runs as if it is independent of your local computer. This means that it has its own separate directories and files, that are not visible from your local computer.\n",
    "\n",
    "However, you can share a folder on your local computer with a Docker container. This is done by using the **`-v`** parameter on `docker run` command. Here is an example of how you can map a Jupyter notebook folder on your computer to the Jupyter notebook folder inside this particular Docker image:\n",
    "\n",
    "```\n",
    "docker run -it --rm -p 8888:8888 -v \\\n",
    "[Path to JupyterNotebook folder]:/tmp/JupyterNotebook:z \\\n",
    "sathayas/ubuntu-python3\n",
    "```\n",
    "\n",
    "Here, the folder indicated by **`[Path to JupyterNotebook folder]`** is mapped to **`/tmp/JupyterNotebook`** directory inside the Docker container. So you will be able to view, edit, create, and save documents to this directory inside a Docker container and such changes are preserved in the `JupyterNotebook` folder on your local computer."
   ]
  },
  {
   "cell_type": "markdown",
   "metadata": {},
   "source": [
    "# Jupyter notebook\n",
    "<hr style=\"height:1px;border:none\" />"
   ]
  },
  {
   "cell_type": "markdown",
   "metadata": {},
   "source": [
    "## What is Jupyter notebook?\n",
    "\n",
    "A **Jupyter notebook** is an interactive document that lets you run Python right there in your document. It is an ideal tool for learning how to code and demonstrating outputs and plots generated by a code. You can view Jupyter notebook documents (with **`.ipynb`** extension) on **GitHub** with your web browser. However, in order to run code snippets on a Jupyter notebook document, you need to open the **`.ipynb`** document on your computer (or your Docker container)."
   ]
  },
  {
   "cell_type": "markdown",
   "metadata": {},
   "source": [
    "### Downloading this Jupyter notebook document\n",
    "\n",
    "If you are using Python on your local computer, then it is a good idea to copy the Jupyter notebook document for this tutorial. You can follow this link to [GitHub](https://github.com/sathayas/DockerSourceLibrary/blob/master/PythonBasic/JupyterNotebook/BasicPython.ipynb), click on the **Raw** button and save the document on your computer.\n",
    "\n",
    "\n",
    "### Opening a Jupyter notebook document\n",
    "\n",
    "* If you are using Anaconda Python, then from the Anaconda Navigator, you can launch Jupyter notebook. \n",
    "* If you are using any other distribution of Python, you must open a Terminal (Mac) or Command Prompt (Windows) app. Then type in the command:\n",
    "\n",
    "```\n",
    "jupyter notebook\n",
    "```\n",
    "\n",
    "* If you are running a Docker image form this tutorial, you should start Jupyter on your container with **`jnb`** command, and follow the instructions given earlier to open the JupyterNotebook folder on your web browser (on your local computer).\n",
    "\n",
    "At the beginning, Jupyter should look something like this. \n",
    "\n",
    "<img src=\"https://github.com/sathayas/DockerSourceLibrary/blob/master/PythonBasic/JupyterNotebook/Images/Jupyter_StartUp.png?raw=true\" alt=\"Starting up Jupyter notebook\" style=\"width: 500px;\"/>\n",
    "\n",
    "Using the file browser **within your web browser** (not the browser's menu), find a Jupyter notebook document. It should look something like this:\n",
    "\n",
    "<img src=\"https://github.com/sathayas/DockerSourceLibrary/blob/master/PythonBasic/JupyterNotebook/Images/Jupyter_Notebook.png?raw=true\" alt=\"An example of Jupyter notebook\" style=\"width: 500px;\"/>\n",
    "\n",
    "\n",
    "## Code cells\n",
    "Within a notebook document, there are some codes that can be executed on the spot. You simply find the code snippet, a box with **`In [ ]:`** on the left margin.\n",
    "\n",
    "<img src=\"https://github.com/sathayas/DockerSourceLibrary/blob/master/PythonBasic/JupyterNotebook/Images/Jupyter_CodeCell.png?raw=true\" alt=\"Code cell\" style=\"width: 800px;\"/>\n",
    "\n",
    "You can click on this **cell** to select. If you happen to click on the text area, then you will see the cell selected with a *green* border.\n",
    "\n",
    "<img src=\"https://github.com/sathayas/DockerSourceLibrary/blob/master/PythonBasic/JupyterNotebook/Images/Jupyter_CodeCellGreen.png?raw=true\" alt=\"Selected code cell (green)\" width=\"800\">\n",
    "\n",
    "Or if you happen to click anywhere else on the cell, the you will see the cell with a *blue* border.\n",
    "\n",
    "<img src=\"https://github.com/sathayas/DockerSourceLibrary/blob/master/PythonBasic/JupyterNotebook/Images/Jupyter_CodeCellBlue.png?raw=true\" alt=\"Selected code cell (blue)\" width=\"800\">\n",
    "\n",
    "### Running a code cell\n",
    "Once the cell is selected (blue or green), you can run that code by pressing the run button \n",
    "\n",
    "<img src=\"https://github.com/sathayas/DockerSourceLibrary/blob/master/PythonBasic/JupyterNotebook/Images/Jupyter_PlayButton.png?raw=true\" alt=\"Run button\" width=\"30\">\n",
    "\n",
    "within the browser window on the top. Then the code is executed, and the output is produced. You can see the output immediately below the code cell. "
   ]
  },
  {
   "cell_type": "code",
   "execution_count": 1,
   "metadata": {},
   "outputs": [
    {
     "name": "stdout",
     "output_type": "stream",
     "text": [
      "Hello World!\n",
      "Hello, Satoru!!\n"
     ]
    }
   ],
   "source": [
    "print(\"Hello World!\")\n",
    "yourname = 'Satoru'\n",
    "print(\"Hello, \" + yourname + \"!!\")"
   ]
  },
  {
   "cell_type": "markdown",
   "metadata": {},
   "source": [
    "### Editing and re-running a code cell\n",
    "You can edit and re-run the code within the notebook as well. Just click on the text of the code cell (so that it's green) and make an edit. \n",
    "\n",
    "Here, I am changing the variable **`yourname`** from **`Satoru`** to **`Hayasaka`**. Then I can just re-run the code by clicking on the run button again."
   ]
  },
  {
   "cell_type": "code",
   "execution_count": 2,
   "metadata": {},
   "outputs": [
    {
     "name": "stdout",
     "output_type": "stream",
     "text": [
      "Hello World!\n",
      "Hello, Hayasaka!!\n"
     ]
    }
   ],
   "source": [
    "print(\"Hello World!\")\n",
    "yourname = 'Hayasaka'\n",
    "print(\"Hello, \" + yourname + \"!!\")"
   ]
  },
  {
   "cell_type": "markdown",
   "metadata": {},
   "source": [
    "Jupyter notebook by default auto-saves any edits frequently. You can also click on the Save button to save any changes made to your Jupyter notebook.\n",
    "\n",
    "### Closing a Jupyter notebook\n",
    "When you are done with a Jupyter notebook, there are multiple ways to **close** it. This is the way I do it:\n",
    "\n",
    "  1. Go to the Python shell or the Docker container terminal that opened up when you started Jupyter notebook, and press **CTRL-C*.\n",
    "  2. When asked to shutdown the notebook server, answer **`y`**.\n",
    "  3. You may see a message saying that the kernel is dead. You just click on **Don't Restart** at that point. \n",
    "  4. Close the browser window associated with the Jupyter notebook.\n",
    "  5. If you do not see a prompt in the Terminal or Command Prompt window, press **CTRL-C** one more time.\n",
    "  \n",
    "  \n",
    "### Reading and writing Python codes as a file\n",
    "\n",
    "\n",
    "Jupyter notebook documents are great for demonstrating and teaching Python coding, for not an ideal platform for sharing actual Python codes. Typically sharing and exchanging of Python codes are done by exchanging source codes, as opposed to exchanging Jupyter notebooks. A source code is a file consisting of lines of Python codes that is able to call libraries / functions, and execute a set of instructions. As long as people have the right version of Python and required set of libraries, such source codes can be executed on any computers.\n",
    "\n",
    "To save a source code from a cell, you need to write a line\n",
    "```\n",
    "%%writefile MyProgram.py\n",
    "```\n",
    "For example,"
   ]
  },
  {
   "cell_type": "code",
   "execution_count": 3,
   "metadata": {},
   "outputs": [
    {
     "name": "stdout",
     "output_type": "stream",
     "text": [
      "Writing MyProgram.py\n"
     ]
    }
   ],
   "source": [
    "%%writefile MyProgram.py\n",
    "\n",
    "print('Hello world!')\n",
    "print('Hello Python!')"
   ]
  },
  {
   "cell_type": "markdown",
   "metadata": {},
   "source": [
    "Then the content of the code cell is saved in a file called **`MyProgram.py`**. If you want to append any additional lines to this program, then you can use the **`-a`** option."
   ]
  },
  {
   "cell_type": "code",
   "execution_count": 4,
   "metadata": {},
   "outputs": [
    {
     "name": "stdout",
     "output_type": "stream",
     "text": [
      "Appending to MyProgram.py\n"
     ]
    }
   ],
   "source": [
    "%%writefile -a MyProgram.py\n",
    "\n",
    "print('Additional line 1')\n",
    "print('Additional line 2')"
   ]
  },
  {
   "cell_type": "markdown",
   "metadata": {},
   "source": [
    "To load an existing source code into a Jupyter notebook document, you can use \n",
    "```\n",
    "%load MyProgram.py\n",
    "```\n",
    "in a code cell. Then the content of the source code is loaded to that cell."
   ]
  },
  {
   "cell_type": "code",
   "execution_count": null,
   "metadata": {},
   "outputs": [],
   "source": [
    "# %load MyProgram.py\n",
    "\n",
    "print('Hello world!')\n",
    "print('Hello Python!')\n",
    "\n",
    "print('Additional line 1')\n",
    "print('Additional line 2')\n"
   ]
  },
  {
   "cell_type": "markdown",
   "metadata": {},
   "source": [
    "If you run this cell, then `%load MyProgram.py` is ignored and you can run the content of the loaded source code."
   ]
  },
  {
   "cell_type": "markdown",
   "metadata": {},
   "source": [
    "# Operators\n",
    "<hr style=\"height:1px;border:none\" />\n",
    "\n",
    "## Math operators\n",
    "In your Python shell, try typing the following.\n"
   ]
  },
  {
   "cell_type": "code",
   "execution_count": 6,
   "metadata": {},
   "outputs": [
    {
     "data": {
      "text/plain": [
       "4"
      ]
     },
     "execution_count": 6,
     "metadata": {},
     "output_type": "execute_result"
    }
   ],
   "source": [
    "2 + 2"
   ]
  },
  {
   "cell_type": "markdown",
   "metadata": {},
   "source": [
    "This is a simple example of an expression. An expression is an instruction consisting of numbers (e.g., 2) and mathematical operators (e.g. +). Any space in an expression is ignored. In addition to (no pun intended) addition (`+`), there are other operators:\n",
    "\n",
    "  * Addition: `+`\n",
    "  * Subtraction: `-`\n",
    "  * Multiplication: `*`\n",
    "  * Integer division: `//`\n",
    "  * Division: `/`\n",
    "  * Remainder after division: `%`\n",
    "  * Exponent: `**`\n",
    "  \n",
    "## Application\n",
    "\n",
    "Now consider the following scenario. You bought lunch for 3 of your friends and yourself. Each person had a sandwich (`$`6.50) and a soda (`$`1.50). How much in total did you pay?\n",
    "\n",
    "In this scenario, you pay `$`6.50 + `$`1.50 per person. Since there are 4 of you, you paid"
   ]
  },
  {
   "cell_type": "code",
   "execution_count": 7,
   "metadata": {},
   "outputs": [
    {
     "data": {
      "text/plain": [
       "32.0"
      ]
     },
     "execution_count": 7,
     "metadata": {},
     "output_type": "execute_result"
    }
   ],
   "source": [
    "(6.50+1.50)*4"
   ]
  },
  {
   "cell_type": "markdown",
   "metadata": {},
   "source": [
    "### Exercise\n",
    "1. **How many scans**. Say, you are given a pilot grant of `$`3,000 to scan subjects on an MRI scanner. You will be charged `$`435 for the MRI scan for each subject. How many subjects can you scan with your pilot grant? (Post the solution formula on Canvas)"
   ]
  },
  {
   "cell_type": "markdown",
   "metadata": {},
   "source": [
    "## String operators\n",
    "In addition to numerical data, Python can also handle text data, also known as strings. A string is a series of characters (including space), and often denoted with quotation marks (') or (\")."
   ]
  },
  {
   "cell_type": "code",
   "execution_count": 8,
   "metadata": {},
   "outputs": [
    {
     "data": {
      "text/plain": [
       "'Hello!'"
      ]
     },
     "execution_count": 8,
     "metadata": {},
     "output_type": "execute_result"
    }
   ],
   "source": [
    "'Hello!'"
   ]
  },
  {
   "cell_type": "markdown",
   "metadata": {},
   "source": [
    "If you forget quotation marks, then you will likely get an error message"
   ]
  },
  {
   "cell_type": "code",
   "execution_count": 9,
   "metadata": {},
   "outputs": [
    {
     "ename": "NameError",
     "evalue": "name 'Hello' is not defined",
     "output_type": "error",
     "traceback": [
      "\u001b[0;31m---------------------------------------------------------------------------\u001b[0m",
      "\u001b[0;31mNameError\u001b[0m                                 Traceback (most recent call last)",
      "\u001b[0;32m<ipython-input-9-1d229271928d>\u001b[0m in \u001b[0;36m<module>\u001b[0;34m\u001b[0m\n\u001b[0;32m----> 1\u001b[0;31m \u001b[0mHello\u001b[0m\u001b[0;34m\u001b[0m\u001b[0;34m\u001b[0m\u001b[0m\n\u001b[0m",
      "\u001b[0;31mNameError\u001b[0m: name 'Hello' is not defined"
     ]
    }
   ],
   "source": [
    "Hello"
   ]
  },
  {
   "cell_type": "markdown",
   "metadata": {},
   "source": [
    "These are examples of strings:\n",
    "```python\n",
    "'a', 'AA', 'Aaaargh!', 'Hello World!', '24', '24 x 7'\n",
    "```\n",
    "\n",
    "As you have already seen before, you can concatenate two strings with `+`. For example,\n"
   ]
  },
  {
   "cell_type": "code",
   "execution_count": 10,
   "metadata": {},
   "outputs": [
    {
     "data": {
      "text/plain": [
       "'Maroon5'"
      ]
     },
     "execution_count": 10,
     "metadata": {},
     "output_type": "execute_result"
    }
   ],
   "source": [
    "'Maroon' + '5'"
   ]
  },
  {
   "cell_type": "markdown",
   "metadata": {},
   "source": [
    "You can also repeat string data with `*`. For example,"
   ]
  },
  {
   "cell_type": "code",
   "execution_count": 11,
   "metadata": {},
   "outputs": [
    {
     "data": {
      "text/plain": [
       "'Yum! Yum! Yum! '"
      ]
     },
     "execution_count": 11,
     "metadata": {},
     "output_type": "execute_result"
    }
   ],
   "source": [
    "'Yum! ' * 3"
   ]
  },
  {
   "cell_type": "markdown",
   "metadata": {},
   "source": [
    "***More information on operators can be found from my [intro Python coding class](https://github.com/sathayas/JupyterPythonFall2018/blob/master/Operators.ipynb).***"
   ]
  },
  {
   "cell_type": "markdown",
   "metadata": {},
   "source": [
    "# Variables and lists\n",
    "<hr style=\"height:1px;border:none\" />\n",
    "\n",
    "## Variables\n",
    "When you write a program, it is easier to store your numerical and string data to variables. A variable can be considered as a box where you store your data. For example,\n"
   ]
  },
  {
   "cell_type": "code",
   "execution_count": 12,
   "metadata": {},
   "outputs": [],
   "source": [
    "age = 23"
   ]
  },
  {
   "cell_type": "markdown",
   "metadata": {},
   "source": [
    "This statement puts 23 into a variable called **`age`**. If you type the variable name, then you can see what's in it"
   ]
  },
  {
   "cell_type": "code",
   "execution_count": 13,
   "metadata": {},
   "outputs": [
    {
     "data": {
      "text/plain": [
       "23"
      ]
     },
     "execution_count": 13,
     "metadata": {},
     "output_type": "execute_result"
    }
   ],
   "source": [
    "age"
   ]
  },
  {
   "cell_type": "markdown",
   "metadata": {},
   "source": [
    "You can store a string into a variable. For example, in the variable called **`name`**,"
   ]
  },
  {
   "cell_type": "code",
   "execution_count": 14,
   "metadata": {},
   "outputs": [],
   "source": [
    "name = 'Hayasaka'"
   ]
  },
  {
   "cell_type": "code",
   "execution_count": 15,
   "metadata": {},
   "outputs": [
    {
     "data": {
      "text/plain": [
       "'Hayasaka'"
      ]
     },
     "execution_count": 15,
     "metadata": {},
     "output_type": "execute_result"
    }
   ],
   "source": [
    "name"
   ]
  },
  {
   "cell_type": "markdown",
   "metadata": {},
   "source": [
    "You can use variables in numerical and string operations. For example,"
   ]
  },
  {
   "cell_type": "code",
   "execution_count": 16,
   "metadata": {},
   "outputs": [
    {
     "data": {
      "text/plain": [
       "28"
      ]
     },
     "execution_count": 16,
     "metadata": {},
     "output_type": "execute_result"
    }
   ],
   "source": [
    "age + 5"
   ]
  },
  {
   "cell_type": "code",
   "execution_count": 17,
   "metadata": {},
   "outputs": [
    {
     "data": {
      "text/plain": [
       "'My name is Hayasaka'"
      ]
     },
     "execution_count": 17,
     "metadata": {},
     "output_type": "execute_result"
    }
   ],
   "source": [
    "'My name is ' + name"
   ]
  },
  {
   "cell_type": "markdown",
   "metadata": {},
   "source": [
    "You can update a variable by replacing its value. For example,"
   ]
  },
  {
   "cell_type": "code",
   "execution_count": 18,
   "metadata": {},
   "outputs": [],
   "source": [
    "name = 'Hanson'"
   ]
  },
  {
   "cell_type": "code",
   "execution_count": 19,
   "metadata": {},
   "outputs": [
    {
     "data": {
      "text/plain": [
       "'Hanson'"
      ]
     },
     "execution_count": 19,
     "metadata": {},
     "output_type": "execute_result"
    }
   ],
   "source": [
    "name"
   ]
  },
  {
   "cell_type": "code",
   "execution_count": 20,
   "metadata": {},
   "outputs": [],
   "source": [
    "age = 55"
   ]
  },
  {
   "cell_type": "code",
   "execution_count": 21,
   "metadata": {},
   "outputs": [
    {
     "data": {
      "text/plain": [
       "55"
      ]
     },
     "execution_count": 21,
     "metadata": {},
     "output_type": "execute_result"
    }
   ],
   "source": [
    "age"
   ]
  },
  {
   "cell_type": "markdown",
   "metadata": {},
   "source": [
    "You can name a variable anyway you like, as long as you follow some simple rules.\n",
    "\n",
    "  1. Variable names can contain only alphabets, numbers, and underscore (`_`).\n",
    "  2. Variable names cannot start with a number.\n",
    "  3. Variable names cannot contain a space\n",
    "  4. Variable names are case sensitive. For example, **`Name`** and **`name`** are two different variables.\n",
    "  5. You cannot use certain keywords reserved for Python.\n"
   ]
  },
  {
   "cell_type": "markdown",
   "metadata": {},
   "source": [
    "## Converting strings to numbers\n",
    "\n",
    "You can convert a string to a number, if it consists of numbers. For example,"
   ]
  },
  {
   "cell_type": "code",
   "execution_count": 22,
   "metadata": {},
   "outputs": [
    {
     "name": "stdout",
     "output_type": "stream",
     "text": [
      "How many apples would you like ($1.25 each)? 5\n"
     ]
    }
   ],
   "source": [
    "numApple = input(\"How many apples would you like ($1.25 each)? \")"
   ]
  },
  {
   "cell_type": "markdown",
   "metadata": {},
   "source": [
    "In this case, the variable **`numApple`** is a string."
   ]
  },
  {
   "cell_type": "code",
   "execution_count": 23,
   "metadata": {},
   "outputs": [
    {
     "data": {
      "text/plain": [
       "'5'"
      ]
     },
     "execution_count": 23,
     "metadata": {},
     "output_type": "execute_result"
    }
   ],
   "source": [
    "numApple"
   ]
  },
  {
   "cell_type": "markdown",
   "metadata": {},
   "source": [
    "Consequently, you will get an error if you do this:"
   ]
  },
  {
   "cell_type": "code",
   "execution_count": 24,
   "metadata": {},
   "outputs": [
    {
     "ename": "TypeError",
     "evalue": "can't multiply sequence by non-int of type 'float'",
     "output_type": "error",
     "traceback": [
      "\u001b[0;31m---------------------------------------------------------------------------\u001b[0m",
      "\u001b[0;31mTypeError\u001b[0m                                 Traceback (most recent call last)",
      "\u001b[0;32m<ipython-input-24-2fc0c4cf8bd7>\u001b[0m in \u001b[0;36m<module>\u001b[0;34m\u001b[0m\n\u001b[0;32m----> 1\u001b[0;31m \u001b[0mtotal\u001b[0m \u001b[0;34m=\u001b[0m \u001b[0;36m1.25\u001b[0m \u001b[0;34m*\u001b[0m \u001b[0mnumApple\u001b[0m\u001b[0;34m\u001b[0m\u001b[0;34m\u001b[0m\u001b[0m\n\u001b[0m",
      "\u001b[0;31mTypeError\u001b[0m: can't multiply sequence by non-int of type 'float'"
     ]
    }
   ],
   "source": [
    "total = 1.25 * numApple"
   ]
  },
  {
   "cell_type": "markdown",
   "metadata": {},
   "source": [
    "You can avoid this by using the **`int()`** function to convert a numerical string into a number."
   ]
  },
  {
   "cell_type": "code",
   "execution_count": 25,
   "metadata": {},
   "outputs": [
    {
     "data": {
      "text/plain": [
       "6.25"
      ]
     },
     "execution_count": 25,
     "metadata": {},
     "output_type": "execute_result"
    }
   ],
   "source": [
    "total = 1.25 * int(numApple)\n",
    "total"
   ]
  },
  {
   "cell_type": "markdown",
   "metadata": {},
   "source": [
    "You can also convert a number into a string variable by **`str()`** function. For example,"
   ]
  },
  {
   "cell_type": "code",
   "execution_count": 26,
   "metadata": {},
   "outputs": [],
   "source": [
    "age = 23"
   ]
  },
  {
   "cell_type": "code",
   "execution_count": 27,
   "metadata": {},
   "outputs": [
    {
     "name": "stdout",
     "output_type": "stream",
     "text": [
      "I am 23 years old.\n"
     ]
    }
   ],
   "source": [
    "print(\"I am \" + str(age) + \" years old.\")"
   ]
  },
  {
   "cell_type": "markdown",
   "metadata": {},
   "source": [
    "You need to use the `str()` function. Otherwise you get an error."
   ]
  },
  {
   "cell_type": "code",
   "execution_count": 28,
   "metadata": {},
   "outputs": [
    {
     "ename": "TypeError",
     "evalue": "must be str, not int",
     "output_type": "error",
     "traceback": [
      "\u001b[0;31m---------------------------------------------------------------------------\u001b[0m",
      "\u001b[0;31mTypeError\u001b[0m                                 Traceback (most recent call last)",
      "\u001b[0;32m<ipython-input-28-23e2d6b04f5f>\u001b[0m in \u001b[0;36m<module>\u001b[0;34m\u001b[0m\n\u001b[0;32m----> 1\u001b[0;31m \u001b[0mprint\u001b[0m\u001b[0;34m(\u001b[0m\u001b[0;34m\"I am \"\u001b[0m \u001b[0;34m+\u001b[0m \u001b[0mage\u001b[0m \u001b[0;34m+\u001b[0m \u001b[0;34m\" years old.\"\u001b[0m\u001b[0;34m)\u001b[0m\u001b[0;34m\u001b[0m\u001b[0;34m\u001b[0m\u001b[0m\n\u001b[0m",
      "\u001b[0;31mTypeError\u001b[0m: must be str, not int"
     ]
    }
   ],
   "source": [
    "print(\"I am \" + age + \" years old.\")"
   ]
  },
  {
   "cell_type": "markdown",
   "metadata": {},
   "source": [
    "## Lists\n",
    "\n",
    "A list is like a collection of variables. A collection of numbers and/or strings can be stored in a list. Here are examples of lists:"
   ]
  },
  {
   "cell_type": "code",
   "execution_count": 29,
   "metadata": {},
   "outputs": [],
   "source": [
    "memberNames = ['Paul', 'John', 'George', 'Ringo']"
   ]
  },
  {
   "cell_type": "code",
   "execution_count": 30,
   "metadata": {},
   "outputs": [
    {
     "data": {
      "text/plain": [
       "['Paul', 'John', 'George', 'Ringo']"
      ]
     },
     "execution_count": 30,
     "metadata": {},
     "output_type": "execute_result"
    }
   ],
   "source": [
    "memberNames"
   ]
  },
  {
   "cell_type": "code",
   "execution_count": 31,
   "metadata": {},
   "outputs": [],
   "source": [
    "numberList = [1, 5, 23, 512, 1023.5]"
   ]
  },
  {
   "cell_type": "code",
   "execution_count": 32,
   "metadata": {},
   "outputs": [
    {
     "data": {
      "text/plain": [
       "[1, 5, 23, 512, 1023.5]"
      ]
     },
     "execution_count": 32,
     "metadata": {},
     "output_type": "execute_result"
    }
   ],
   "source": [
    "numberList"
   ]
  },
  {
   "cell_type": "markdown",
   "metadata": {},
   "source": [
    "As you can see, a list is bounded by square brackets `[]`, with elements separated by commas (`,`). To access an individual item of a list, you can use an index inside square brackets. For example,"
   ]
  },
  {
   "cell_type": "code",
   "execution_count": 33,
   "metadata": {},
   "outputs": [],
   "source": [
    "memberNames = ['Paul', 'John', 'George', 'Ringo', 'Yoko']"
   ]
  },
  {
   "cell_type": "code",
   "execution_count": 34,
   "metadata": {},
   "outputs": [
    {
     "data": {
      "text/plain": [
       "'Paul'"
      ]
     },
     "execution_count": 34,
     "metadata": {},
     "output_type": "execute_result"
    }
   ],
   "source": [
    "memberNames[0]"
   ]
  },
  {
   "cell_type": "code",
   "execution_count": 35,
   "metadata": {},
   "outputs": [
    {
     "data": {
      "text/plain": [
       "'Yoko'"
      ]
     },
     "execution_count": 35,
     "metadata": {},
     "output_type": "execute_result"
    }
   ],
   "source": [
    "memberNames[4]"
   ]
  },
  {
   "cell_type": "markdown",
   "metadata": {},
   "source": [
    "Notice that the indices start from 0 (referring to the first item on the list) and end with 4 (or, the number of items minus 1). You can use the **`len()`** function to figure out how many items are in a list."
   ]
  },
  {
   "cell_type": "code",
   "execution_count": 36,
   "metadata": {},
   "outputs": [
    {
     "data": {
      "text/plain": [
       "5"
      ]
     },
     "execution_count": 36,
     "metadata": {},
     "output_type": "execute_result"
    }
   ],
   "source": [
    "len(memberNames)"
   ]
  },
  {
   "cell_type": "markdown",
   "metadata": {},
   "source": [
    "In Python, you can also use a negative index to access individual items on a list. A negative index starts from -1, the last item on the list."
   ]
  },
  {
   "cell_type": "code",
   "execution_count": 37,
   "metadata": {},
   "outputs": [],
   "source": [
    "fruits = ['apple', 'orange', 'banana', 'pineapple']"
   ]
  },
  {
   "cell_type": "code",
   "execution_count": 38,
   "metadata": {},
   "outputs": [
    {
     "data": {
      "text/plain": [
       "'pineapple'"
      ]
     },
     "execution_count": 38,
     "metadata": {},
     "output_type": "execute_result"
    }
   ],
   "source": [
    "fruits[-1]"
   ]
  },
  {
   "cell_type": "code",
   "execution_count": 39,
   "metadata": {},
   "outputs": [
    {
     "data": {
      "text/plain": [
       "'apple'"
      ]
     },
     "execution_count": 39,
     "metadata": {},
     "output_type": "execute_result"
    }
   ],
   "source": [
    "fruits[-4]"
   ]
  },
  {
   "cell_type": "markdown",
   "metadata": {},
   "source": [
    "You can change the value of individual items on a list, just the same way as changing a variable.\n"
   ]
  },
  {
   "cell_type": "code",
   "execution_count": 40,
   "metadata": {},
   "outputs": [
    {
     "data": {
      "text/plain": [
       "['apple', 'orange', 'banana', 'pineapple']"
      ]
     },
     "execution_count": 40,
     "metadata": {},
     "output_type": "execute_result"
    }
   ],
   "source": [
    "fruits"
   ]
  },
  {
   "cell_type": "code",
   "execution_count": 41,
   "metadata": {},
   "outputs": [],
   "source": [
    "fruits[2] = 'grape'"
   ]
  },
  {
   "cell_type": "code",
   "execution_count": 42,
   "metadata": {},
   "outputs": [
    {
     "data": {
      "text/plain": [
       "['apple', 'orange', 'grape', 'pineapple']"
      ]
     },
     "execution_count": 42,
     "metadata": {},
     "output_type": "execute_result"
    }
   ],
   "source": [
    "fruits"
   ]
  },
  {
   "cell_type": "markdown",
   "metadata": {},
   "source": [
    "## Slicing a list\n",
    "\n",
    "Now, you can access multiple items on a list, to generate a sublist. This is known as **slicing**. For example, in a list"
   ]
  },
  {
   "cell_type": "code",
   "execution_count": 43,
   "metadata": {},
   "outputs": [],
   "source": [
    "animal = ['dog', 'cat', 'tiger', 'lion', 'moose', 'panda', 'bear']"
   ]
  },
  {
   "cell_type": "markdown",
   "metadata": {},
   "source": [
    "you want to access a sublist consisting of `cat`, `tiger`, and `lion`. In that case, you can use"
   ]
  },
  {
   "cell_type": "code",
   "execution_count": 44,
   "metadata": {},
   "outputs": [
    {
     "data": {
      "text/plain": [
       "['cat', 'tiger', 'lion']"
      ]
     },
     "execution_count": 44,
     "metadata": {},
     "output_type": "execute_result"
    }
   ],
   "source": [
    "animal[1:4]"
   ]
  },
  {
   "cell_type": "markdown",
   "metadata": {},
   "source": [
    "### Exercise\n",
    "1. **First five**. Say you have two lists, one for stimulus onset times (in seconds) and the other for conditions (congruent (`C`) or incongruent (`I`)). \n",
    "```python\n",
    "onset = [15, 30, 45, 60, 90, 105, 120, 135, 150, 165, 180, 195, 210]\n",
    "cond = ['C','C','I','C','I','C','I','C','I','C','I','I','I']\n",
    "```\n",
    "Write a slice to generate sublists for the first 5 stimulus times and conditions.\n",
    "2. **Last four**. On the same lists above, write a slice to generate sublists for the last 4 stimulus times and conditions."
   ]
  },
  {
   "cell_type": "markdown",
   "metadata": {},
   "source": [
    "## Lists are objects\n",
    "\n",
    "Python is know as an object oriented programming language. That means you will likely encounter some objects as you write codes. A list is an example of objects. An object, unlike a variable, are associated with **attributes** and **methods**. An attribute describes a characteristic or a property of an object. A method is a special function that can be applied to the object. I will not go into too much details, but it suffices to say that, if you have a Python object, you can use methods associated with that object to perform certain operations."
   ]
  },
  {
   "cell_type": "markdown",
   "metadata": {},
   "source": [
    "## Useful methods for lists\n",
    "\n",
    "\n",
    "A *method* is similar to a function, but it is associated with a particular list. There are a number of methods you can use for the list data type. Here are some examples.\n",
    "\n",
    "### `index()` method\n",
    "\n",
    "You can find a particular value in a list using the **`index()`** method. This method returns the index corresponding to the value. For example,\n"
   ]
  },
  {
   "cell_type": "code",
   "execution_count": 17,
   "metadata": {},
   "outputs": [
    {
     "data": {
      "text/plain": [
       "2"
      ]
     },
     "execution_count": 17,
     "metadata": {},
     "output_type": "execute_result"
    }
   ],
   "source": [
    "memberNames = ['Paul', 'John', 'George', 'Ringo']\n",
    "memberNames.index('George')"
   ]
  },
  {
   "cell_type": "markdown",
   "metadata": {},
   "source": [
    "In other words, the index for the value 'George' is 2. \n",
    "\n",
    "\n",
    "### `append()`, `insert()` and `remove()` methods\n",
    "\n",
    "To add items to a list, the **`append()`** and **`insert()`** methods can be useful. The **`append()`** method adds an item at the end of the list.\n"
   ]
  },
  {
   "cell_type": "code",
   "execution_count": 18,
   "metadata": {},
   "outputs": [
    {
     "data": {
      "text/plain": [
       "['Paul', 'John', 'George', 'Ringo', 'Yoko']"
      ]
     },
     "execution_count": 18,
     "metadata": {},
     "output_type": "execute_result"
    }
   ],
   "source": [
    "memberNames = ['Paul', 'John', 'George', 'Ringo']\n",
    "memberNames.append('Yoko')\n",
    "memberNames"
   ]
  },
  {
   "cell_type": "markdown",
   "metadata": {},
   "source": [
    "If you want to add an item to a particular location on the list, you can use the **`insert()`** method, with the location to be inserted specified. For example,"
   ]
  },
  {
   "cell_type": "code",
   "execution_count": 19,
   "metadata": {},
   "outputs": [
    {
     "data": {
      "text/plain": [
       "['Paul', 'Yoko', 'John', 'George', 'Ringo']"
      ]
     },
     "execution_count": 19,
     "metadata": {},
     "output_type": "execute_result"
    }
   ],
   "source": [
    "memberNames = ['Paul', 'John', 'George', 'Ringo']\n",
    "memberNames.insert(1,'Yoko')\n",
    "memberNames"
   ]
  },
  {
   "cell_type": "markdown",
   "metadata": {},
   "source": [
    "To remove an item from a list, you can use the **`remove()`** method. For example,"
   ]
  },
  {
   "cell_type": "code",
   "execution_count": 20,
   "metadata": {},
   "outputs": [
    {
     "data": {
      "text/plain": [
       "['cat', 'dog', 'panda', 'giraffe']"
      ]
     },
     "execution_count": 20,
     "metadata": {},
     "output_type": "execute_result"
    }
   ],
   "source": [
    "mammal = ['cat', 'dog', 'panda', 'owl', 'giraffe']\n",
    "mammal.remove('owl')\n",
    "mammal"
   ]
  },
  {
   "cell_type": "markdown",
   "metadata": {},
   "source": [
    "\n",
    "### `sort()` method\n",
    "\n",
    "You can sort the items on a list with the **`sort()`** method. For example,\n"
   ]
  },
  {
   "cell_type": "code",
   "execution_count": 22,
   "metadata": {},
   "outputs": [
    {
     "data": {
      "text/plain": [
       "[-15, -5, 2, 3, 18, 250]"
      ]
     },
     "execution_count": 22,
     "metadata": {},
     "output_type": "execute_result"
    }
   ],
   "source": [
    "numbers = [-5, -15, 2, 250, 3, 18]\n",
    "numbers.sort()\n",
    "numbers"
   ]
  },
  {
   "cell_type": "code",
   "execution_count": 36,
   "metadata": {},
   "outputs": [
    {
     "data": {
      "text/plain": [
       "['cat', 'dog', 'horse', 'lion', 'panda']"
      ]
     },
     "execution_count": 36,
     "metadata": {},
     "output_type": "execute_result"
    }
   ],
   "source": [
    "mammal = ['dog', 'cat', 'panda', 'lion', 'horse']\n",
    "mammal.sort()\n",
    "mammal"
   ]
  },
  {
   "cell_type": "markdown",
   "metadata": {},
   "source": [
    "### Exercise\n",
    "1. **Updating the name list**. To the list of names\n",
    "```python\n",
    "lastNames = ['Albert', 'Brewer', 'Delgado', 'Ellsworth','Franco']\n",
    "```\n",
    "add another item **`Chu`**, in a way that the list is still alphabetical."
   ]
  },
  {
   "cell_type": "markdown",
   "metadata": {},
   "source": [
    "## Strings are like lists\n",
    "\n",
    "Individual characters within a string can be referenced like a list. For example,"
   ]
  },
  {
   "cell_type": "code",
   "execution_count": 31,
   "metadata": {},
   "outputs": [
    {
     "data": {
      "text/plain": [
       "'P'"
      ]
     },
     "execution_count": 31,
     "metadata": {},
     "output_type": "execute_result"
    }
   ],
   "source": [
    "text = 'Python is fun!'\n",
    "text[0]"
   ]
  },
  {
   "cell_type": "code",
   "execution_count": 32,
   "metadata": {},
   "outputs": [
    {
     "data": {
      "text/plain": [
       "'!'"
      ]
     },
     "execution_count": 32,
     "metadata": {},
     "output_type": "execute_result"
    }
   ],
   "source": [
    "text[-1]"
   ]
  },
  {
   "cell_type": "markdown",
   "metadata": {},
   "source": [
    "***More information on variables and lists can be found from my [intro Python coding class](https://github.com/sathayas/JupyterPythonFall2018/blob/master/List.ipynb).***"
   ]
  },
  {
   "cell_type": "markdown",
   "metadata": {},
   "source": [
    "# Conditions\n",
    "<hr style=\"height:1px;border:none\" />\n",
    "\n",
    "## True or False?\n",
    "\n",
    "In your program, you may encounter situations in which you need to evaluate conditions. For example:\n",
    "\n",
    "  * Variable **`age`** is greater than 18\n",
    "  * Variable **`animal`** is equal to **`'llama'`**\n",
    "  * Whether a string **`'Alice'`** is in a list **`names = ['Aaron','Ada','Albert','Alice','Alister']`**\n",
    "\n",
    "Conditions can be described by a set of comparison operators. When executed, conditions return **`True`** or **`False`**."
   ]
  },
  {
   "cell_type": "code",
   "execution_count": 15,
   "metadata": {},
   "outputs": [],
   "source": [
    "# Defining the variables\n",
    "age = 29\n",
    "animal = 'panda'"
   ]
  },
  {
   "cell_type": "code",
   "execution_count": 5,
   "metadata": {},
   "outputs": [
    {
     "data": {
      "text/plain": [
       "False"
      ]
     },
     "execution_count": 5,
     "metadata": {},
     "output_type": "execute_result"
    }
   ],
   "source": [
    "# if age equals 23\n",
    "age == 23"
   ]
  },
  {
   "cell_type": "code",
   "execution_count": 6,
   "metadata": {},
   "outputs": [
    {
     "data": {
      "text/plain": [
       "True"
      ]
     },
     "execution_count": 6,
     "metadata": {},
     "output_type": "execute_result"
    }
   ],
   "source": [
    "# if age is greater than 21\n",
    "age > 21"
   ]
  },
  {
   "cell_type": "code",
   "execution_count": 8,
   "metadata": {},
   "outputs": [
    {
     "data": {
      "text/plain": [
       "True"
      ]
     },
     "execution_count": 8,
     "metadata": {},
     "output_type": "execute_result"
    }
   ],
   "source": [
    "# if animal is 'panda'\n",
    "animal == 'panda'"
   ]
  },
  {
   "cell_type": "code",
   "execution_count": 10,
   "metadata": {},
   "outputs": [
    {
     "data": {
      "text/plain": [
       "True"
      ]
     },
     "execution_count": 10,
     "metadata": {},
     "output_type": "execute_result"
    }
   ],
   "source": [
    "# if animal is not 'llama'\n",
    "animal != 'llama'"
   ]
  },
  {
   "cell_type": "markdown",
   "metadata": {},
   "source": [
    "Here are some common comparison operators for variables.\n",
    "\n",
    "  * **`==`**: equals\n",
    "  * **`!=`**: not equal to\n",
    "  * **`>`**: greater than\n",
    "  * **`>=`**: greater than or equal to\n",
    "  * **`<`**: less than\n",
    "  * **`<=`**: less than or equal to\n",
    "\n",
    "Using a comparison operator, you can execute something only when the condition is satisfied with **`if`**."
   ]
  },
  {
   "cell_type": "code",
   "execution_count": 16,
   "metadata": {},
   "outputs": [
    {
     "name": "stdout",
     "output_type": "stream",
     "text": [
      "You are old enough to participate in the study.\n"
     ]
    }
   ],
   "source": [
    "if age>18:\n",
    "    print('You are old enough to participate in the study.')"
   ]
  },
  {
   "cell_type": "markdown",
   "metadata": {},
   "source": [
    "You can also specify what to execute when the condition is not met with **`else`**."
   ]
  },
  {
   "cell_type": "code",
   "execution_count": 17,
   "metadata": {},
   "outputs": [
    {
     "name": "stdout",
     "output_type": "stream",
     "text": [
      "You did not meet the age criterion.\n"
     ]
    }
   ],
   "source": [
    "if age>65:\n",
    "    print('You are old enough to participate in the study.')\n",
    "else:\n",
    "    print('You did not meet the age criterion.')"
   ]
  },
  {
   "cell_type": "markdown",
   "metadata": {},
   "source": [
    "If you want to evaluate a series of conditions, you can combine `else` and `if` into **`elif`**. For example,"
   ]
  },
  {
   "cell_type": "code",
   "execution_count": 22,
   "metadata": {},
   "outputs": [
    {
     "name": "stdout",
     "output_type": "stream",
     "text": [
      "Conditional pass.\n"
     ]
    }
   ],
   "source": [
    "score = 62\n",
    "if score > 80:\n",
    "    print('You passed.')\n",
    "elif score > 60:\n",
    "    print('Conditional pass.')\n",
    "else:\n",
    "    print('You failed.')"
   ]
  },
  {
   "cell_type": "markdown",
   "metadata": {},
   "source": [
    "## In or not in?\n",
    "If you have a list, you can examine whether a certain item is in the list with **`in`** or **`not in`** operators."
   ]
  },
  {
   "cell_type": "code",
   "execution_count": 1,
   "metadata": {},
   "outputs": [],
   "source": [
    "numList = [5, 10, 15, 20, 30, 40]\n",
    "alphaList = ['A','C','G','H','J','Q']"
   ]
  },
  {
   "cell_type": "code",
   "execution_count": 19,
   "metadata": {},
   "outputs": [
    {
     "data": {
      "text/plain": [
       "False"
      ]
     },
     "execution_count": 19,
     "metadata": {},
     "output_type": "execute_result"
    }
   ],
   "source": [
    "# if 25 is in the list numList\n",
    "25 in numList"
   ]
  },
  {
   "cell_type": "markdown",
   "metadata": {},
   "source": [
    "### Exercise\n",
    "1. **Letter grade**. Write an **`if ... elif ... else`** statement to evaluate the letter grade based on these criteria:\n",
    "<table>\n",
    "    <tr>\n",
    "        <th>Score</th>\n",
    "        <th>Grade</th>\n",
    "    </tr>\n",
    "    <tr>\n",
    "        <td>90-100</td>\n",
    "        <td>A</td>\n",
    "    </tr>\n",
    "    <tr>\n",
    "        <td>80-89</td>\n",
    "        <td>B</td>\n",
    "    </tr>\n",
    "    <tr>\n",
    "        <td>65-79</td>\n",
    "        <td>C</td>\n",
    "    </tr>\n",
    "    <tr>\n",
    "        <td>0-64</td>\n",
    "        <td>F</td>\n",
    "    </tr>\n",
    "</table>"
   ]
  },
  {
   "cell_type": "markdown",
   "metadata": {},
   "source": [
    "***More information on conditions and if statements can be found from my [intro Python coding class](https://github.com/sathayas/JupyterPythonFall2018/blob/master/If.ipynb).***"
   ]
  },
  {
   "cell_type": "markdown",
   "metadata": {},
   "source": [
    "# `for` loops\n",
    "<hr style=\"height:1px;border:none\" />\n",
    "\n",
    "## Repeat!\n",
    "\n",
    "If you want to perform something a number of times, then you can use a **`for`** loop. Here is a simple example."
   ]
  },
  {
   "cell_type": "code",
   "execution_count": 1,
   "metadata": {},
   "outputs": [],
   "source": [
    "idList = []\n",
    "for i in range(1,10):\n",
    "    tempID = str(i)\n",
    "    idList.append(tempID)"
   ]
  },
  {
   "cell_type": "code",
   "execution_count": 2,
   "metadata": {},
   "outputs": [
    {
     "data": {
      "text/plain": [
       "['1', '2', '3', '4', '5', '6', '7', '8', '9']"
      ]
     },
     "execution_count": 2,
     "metadata": {},
     "output_type": "execute_result"
    }
   ],
   "source": [
    "idList"
   ]
  },
  {
   "cell_type": "markdown",
   "metadata": {},
   "source": [
    "This simple code generated a series of subject IDs (as strings), as you can see.\n",
    "\n",
    "In general, here is the syntax of a **`for`** loop.\n",
    "```\n",
    "for [iterator variable] in [list or other iterator object]:\n",
    "    [Block of codes to be executed]\n",
    "```\n",
    "\n",
    "Here, the `[iterator variable]` takes a single value in a sequence of possible values in the `[list or other iterator object]`. In our example above, variable **`i`** takes a sequence of values specified in the **`range()`** function. The `range()` function is useful in generating a sequence of integers."
   ]
  },
  {
   "cell_type": "code",
   "execution_count": 3,
   "metadata": {},
   "outputs": [
    {
     "data": {
      "text/plain": [
       "[1, 2, 3, 4, 5, 6, 7, 8, 9]"
      ]
     },
     "execution_count": 3,
     "metadata": {},
     "output_type": "execute_result"
    }
   ],
   "source": [
    "list(range(1,10))"
   ]
  },
  {
   "cell_type": "code",
   "execution_count": 7,
   "metadata": {},
   "outputs": [
    {
     "data": {
      "text/plain": [
       "[0, 1, 2, 3, 4, 5, 6, 7, 8, 9]"
      ]
     },
     "execution_count": 7,
     "metadata": {},
     "output_type": "execute_result"
    }
   ],
   "source": [
    "list(range(10))"
   ]
  },
  {
   "cell_type": "markdown",
   "metadata": {},
   "source": [
    "Inside the `for` loop is the `[Block of codes to be executed]`. This block will be executed multiple times, each with a different value of the `[iterator variable]`. In our example, \n",
    "```python\n",
    "    tempID = str(i)\n",
    "    idList.append(tmpID)\n",
    "```\n",
    "is executed with different values of `i` each time."
   ]
  },
  {
   "cell_type": "markdown",
   "metadata": {},
   "source": [
    "## Nested `for` loops\n",
    "\n",
    "It is possible to have two `for` loops one within another. The iterator variable iterates over the inner `for` loop first, then the outer `for` loop. Here is an example generating subject IDs (5 subjects) and runs (3 runs per subject) for an experiment."
   ]
  },
  {
   "cell_type": "code",
   "execution_count": 4,
   "metadata": {},
   "outputs": [],
   "source": [
    "expList = []\n",
    "for iSubj in range(1,6):\n",
    "    for iRun in range(1,4):\n",
    "        tmpID = 'subj' + str(iSubj)\n",
    "        tmpRun = 'run' + str(iRun)\n",
    "        expList.append(tmpID+'-'+tmpRun)"
   ]
  },
  {
   "cell_type": "code",
   "execution_count": 5,
   "metadata": {
    "scrolled": false
   },
   "outputs": [
    {
     "data": {
      "text/plain": [
       "['subj1-run1',\n",
       " 'subj1-run2',\n",
       " 'subj1-run3',\n",
       " 'subj2-run1',\n",
       " 'subj2-run2',\n",
       " 'subj2-run3',\n",
       " 'subj3-run1',\n",
       " 'subj3-run2',\n",
       " 'subj3-run3',\n",
       " 'subj4-run1',\n",
       " 'subj4-run2',\n",
       " 'subj4-run3',\n",
       " 'subj5-run1',\n",
       " 'subj5-run2',\n",
       " 'subj5-run3']"
      ]
     },
     "execution_count": 5,
     "metadata": {},
     "output_type": "execute_result"
    }
   ],
   "source": [
    "expList"
   ]
  },
  {
   "cell_type": "markdown",
   "metadata": {},
   "source": [
    "### Exercise\n",
    "1. **Rolling dice**. Assume you roll two dice, and calculate the sum of the resulting numbers. You want to make a list of all possible outcomes. For example,\n",
    "```\n",
    "(1, 1) = 2\n",
    "(1, 2) = 3\n",
    ". . .\n",
    "(1, 6) = 7\n",
    "(2, 2) = 4\n",
    "(2, 3) = 5\n",
    ". . .\n",
    "```\n",
    "and so on. In your table, you don't have to list redundant outcomes. For example, you don't list (5, 2) = 7, since this is already represented by (2, 5) = 7."
   ]
  },
  {
   "cell_type": "markdown",
   "metadata": {},
   "source": [
    "***More information on for loops can be found from my [intro Python coding class](https://github.com/sathayas/JupyterPythonFall2018/blob/master/For.ipynb).***"
   ]
  },
  {
   "cell_type": "markdown",
   "metadata": {},
   "source": [
    "# Functions\n",
    "<hr style=\"height:1px;border:none\" />\n",
    "\n",
    "## What is a function?\n",
    "In math and computer science, functions are often referred as black boxes. This is because, when an input is given, a function performs a certain operation (perhaps unbeknownst to the user) and returns an output.\n",
    "\n",
    "<img src=\"https://github.com/sathayas/JupyterfMRIFall2018/blob/master/Images/function_schematic.png?raw=true\" alt=\"Function schematic\" style=\"width: 250px; float: center;\"/>\n",
    "\n",
    "Think about some mathematical functions, such as `cos`, `log`, or `exp`. There are a number of functions that have already written (by someone else) in various libraries in Python. To run such a function, you need to import the library, then call the function. For example, let's import a random number generator function called **`randint()`** in the library **`random`**."
   ]
  },
  {
   "cell_type": "code",
   "execution_count": 11,
   "metadata": {},
   "outputs": [
    {
     "name": "stdout",
     "output_type": "stream",
     "text": [
      "5\n",
      "5\n",
      "1\n",
      "9\n",
      "7\n",
      "7\n",
      "7\n",
      "9\n",
      "2\n",
      "7\n"
     ]
    }
   ],
   "source": [
    "import random\n",
    "for i in range(10):\n",
    "    print(random.randint(1,10))"
   ]
  },
  {
   "cell_type": "markdown",
   "metadata": {},
   "source": [
    "## Writing your own function\n",
    "\n",
    "If you know you perform certain calculation or operations multiple times in your program, you can also write your own functions. For example, say you want to convert a temperature from Fahrenheit (the input parameter, **`tempF`**) to the temperature in Celsius, and returns it. You write a function **`FtoC`** for that purpose. "
   ]
  },
  {
   "cell_type": "code",
   "execution_count": 12,
   "metadata": {},
   "outputs": [],
   "source": [
    "def FtoC(tempF):\n",
    "    tempC = (tempF - 32) * (5/9)\n",
    "    return tempC"
   ]
  },
  {
   "cell_type": "markdown",
   "metadata": {},
   "source": [
    "Once the function has been executed, you can call it in your code."
   ]
  },
  {
   "cell_type": "code",
   "execution_count": 14,
   "metadata": {},
   "outputs": [
    {
     "name": "stdout",
     "output_type": "stream",
     "text": [
      "90F is equivalent to 32.2 in Celsius\n"
     ]
    }
   ],
   "source": [
    "print('90F is equivalent to %4.1f in Celsius' % FtoC(90))"
   ]
  },
  {
   "cell_type": "code",
   "execution_count": 19,
   "metadata": {},
   "outputs": [
    {
     "name": "stdout",
     "output_type": "stream",
     "text": [
      "Fahrenheit\tCelsius\n",
      "   -40\t\t -40.0\n",
      "   -30\t\t -34.4\n",
      "   -20\t\t -28.9\n",
      "   -10\t\t -23.3\n",
      "     0\t\t -17.8\n",
      "    10\t\t -12.2\n",
      "    20\t\t  -6.7\n",
      "    30\t\t  -1.1\n",
      "    40\t\t   4.4\n",
      "    50\t\t  10.0\n",
      "    60\t\t  15.6\n",
      "    70\t\t  21.1\n",
      "    80\t\t  26.7\n",
      "    90\t\t  32.2\n",
      "   100\t\t  37.8\n",
      "   110\t\t  43.3\n",
      "   120\t\t  48.9\n"
     ]
    }
   ],
   "source": [
    "print('Fahrenheit\\tCelsius')\n",
    "for i in range(-40,121,10):\n",
    "    print('   %3d' % i, end='')\n",
    "    print('\\t\\t', end='')\n",
    "    print(' %5.1f' % FtoC(i))\n"
   ]
  },
  {
   "cell_type": "markdown",
   "metadata": {},
   "source": [
    "### Exercise\n",
    "1. **Truncating a string**. Write a function that takes a string as the input. This function evaluate the length of the input string, and if it is longer than 5 characters, it returns only the first 5 characters of the input. Otherwise, the entire input string is returned.\n",
    "\n"
   ]
  },
  {
   "cell_type": "markdown",
   "metadata": {},
   "source": [
    "***More information on functions can be found from my [intro Python coding class](https://github.com/sathayas/JupyterPythonFall2018/blob/master/Function.ipynb).***"
   ]
  },
  {
   "cell_type": "markdown",
   "metadata": {},
   "source": [
    "# Dictionaries\n",
    "<hr style=\"height:1px;border:none\" />\n",
    "\n",
    "What is a dictionary? A dictionary is like a list. But unlike a list whose items are indexed by a number, we can refer items in a dictionary with keys. Here is an example of a dictionary.\n"
   ]
  },
  {
   "cell_type": "code",
   "execution_count": 6,
   "metadata": {},
   "outputs": [],
   "source": [
    "bookInfo = {'Author':'Sweigart, Al',\n",
    "            'Title':'Automate the Boring Stuff with Python',\n",
    "            'Publisher':'No Starch Press',\n",
    "            'Year': 2015,\n",
    "            'Pages':503}"
   ]
  },
  {
   "cell_type": "code",
   "execution_count": 7,
   "metadata": {},
   "outputs": [
    {
     "data": {
      "text/plain": [
       "{'Author': 'Sweigart, Al',\n",
       " 'Title': 'Automate the Boring Stuff with Python',\n",
       " 'Publisher': 'No Starch Press',\n",
       " 'Year': 2015,\n",
       " 'Pages': 503}"
      ]
     },
     "execution_count": 7,
     "metadata": {},
     "output_type": "execute_result"
    }
   ],
   "source": [
    "bookInfo"
   ]
  },
  {
   "cell_type": "markdown",
   "metadata": {},
   "source": [
    "item in the dictionary consists of a **key** and a **value** separated by a colon (`:`). You can use a key to access the value of the corresponding item. For example,"
   ]
  },
  {
   "cell_type": "code",
   "execution_count": 8,
   "metadata": {},
   "outputs": [
    {
     "data": {
      "text/plain": [
       "'Sweigart, Al'"
      ]
     },
     "execution_count": 8,
     "metadata": {},
     "output_type": "execute_result"
    }
   ],
   "source": [
    "bookInfo['Author']"
   ]
  },
  {
   "cell_type": "code",
   "execution_count": 9,
   "metadata": {},
   "outputs": [
    {
     "data": {
      "text/plain": [
       "503"
      ]
     },
     "execution_count": 9,
     "metadata": {},
     "output_type": "execute_result"
    }
   ],
   "source": [
    "bookInfo['Pages']"
   ]
  },
  {
   "cell_type": "markdown",
   "metadata": {},
   "source": [
    "You can just get keys, to see what fields are in a dictionary."
   ]
  },
  {
   "cell_type": "code",
   "execution_count": 10,
   "metadata": {},
   "outputs": [
    {
     "data": {
      "text/plain": [
       "dict_keys(['Author', 'Title', 'Publisher', 'Year', 'Pages'])"
      ]
     },
     "execution_count": 10,
     "metadata": {},
     "output_type": "execute_result"
    }
   ],
   "source": [
    "bookInfo.keys()"
   ]
  },
  {
   "cell_type": "markdown",
   "metadata": {},
   "source": [
    "So, *why should we care about dictionaries?* Sometimes it makes sense to organize multiple properties of an object / individual as a single entity, as opposed to a collection of separate variables. Also, some functions in some Python libraries return a dictionary as an output."
   ]
  },
  {
   "cell_type": "markdown",
   "metadata": {},
   "source": [
    "***More information on dictionaries can be found from my [intro Python coding class](https://github.com/sathayas/JupyterPythonFall2018/blob/master/Dictionary.ipynb).***"
   ]
  },
  {
   "cell_type": "markdown",
   "metadata": {},
   "source": [
    "# NumPy arrays\n",
    "<hr style=\"height:1px;border:none\" />\n",
    "\n",
    "## Creating an array\n",
    "An array is a data type available in **`NumPy`**. It is similar to a list, but much more\n",
    "versatile than a list, and especially useful for scientific data."
   ]
  },
  {
   "cell_type": "code",
   "execution_count": 1,
   "metadata": {},
   "outputs": [
    {
     "data": {
      "text/plain": [
       "array([1, 2, 3, 4, 5])"
      ]
     },
     "execution_count": 1,
     "metadata": {},
     "output_type": "execute_result"
    }
   ],
   "source": [
    "import numpy as np\n",
    "a = np.array([1, 2, 3, 4, 5])\n",
    "a"
   ]
  },
  {
   "cell_type": "markdown",
   "metadata": {},
   "source": [
    "Note that when we import **`numpy`**, we assign a name **`np`**, so that we don't have to\n",
    "type `numpy` every time we call a function in the `numpy` module. An array can be\n",
    "converted to a list, or vice versa."
   ]
  },
  {
   "cell_type": "code",
   "execution_count": 2,
   "metadata": {},
   "outputs": [
    {
     "data": {
      "text/plain": [
       "[1, 2, 3, 4, 5]"
      ]
     },
     "execution_count": 2,
     "metadata": {},
     "output_type": "execute_result"
    }
   ],
   "source": [
    "list(a)"
   ]
  },
  {
   "cell_type": "code",
   "execution_count": 3,
   "metadata": {},
   "outputs": [
    {
     "data": {
      "text/plain": [
       "array([10,  9,  8,  7,  6])"
      ]
     },
     "execution_count": 3,
     "metadata": {},
     "output_type": "execute_result"
    }
   ],
   "source": [
    "b = [10, 9, 8, 7, 6]\n",
    "np.array(b)"
   ]
  },
  {
   "cell_type": "markdown",
   "metadata": {},
   "source": [
    "An array can be two dimensional. For example,"
   ]
  },
  {
   "cell_type": "code",
   "execution_count": 4,
   "metadata": {},
   "outputs": [
    {
     "data": {
      "text/plain": [
       "array([[ 1,  2,  3],\n",
       "       [ 4,  5,  6],\n",
       "       [ 7,  8,  9],\n",
       "       [10, 11, 12]])"
      ]
     },
     "execution_count": 4,
     "metadata": {},
     "output_type": "execute_result"
    }
   ],
   "source": [
    "c = np.array([[1,2,3],[4,5,6],[7,8,9],[10,11,12]])\n",
    "c"
   ]
  },
  {
   "cell_type": "markdown",
   "metadata": {},
   "source": [
    "You can examine the shape of an array using the **`ndim`** attribute (to examine\n",
    "dimension), the **`shape`** attribute (to examine the size in each dimension), and the\n",
    "**`size`** attribute (to examine the total number of elements)."
   ]
  },
  {
   "cell_type": "code",
   "execution_count": 6,
   "metadata": {},
   "outputs": [
    {
     "data": {
      "text/plain": [
       "2"
      ]
     },
     "execution_count": 6,
     "metadata": {},
     "output_type": "execute_result"
    }
   ],
   "source": [
    "c.ndim"
   ]
  },
  {
   "cell_type": "code",
   "execution_count": 7,
   "metadata": {},
   "outputs": [
    {
     "data": {
      "text/plain": [
       "(4, 3)"
      ]
     },
     "execution_count": 7,
     "metadata": {},
     "output_type": "execute_result"
    }
   ],
   "source": [
    "c.shape"
   ]
  },
  {
   "cell_type": "code",
   "execution_count": 8,
   "metadata": {},
   "outputs": [
    {
     "data": {
      "text/plain": [
       "12"
      ]
     },
     "execution_count": 8,
     "metadata": {},
     "output_type": "execute_result"
    }
   ],
   "source": [
    "c.size"
   ]
  },
  {
   "cell_type": "markdown",
   "metadata": {},
   "source": [
    "You can change the shape of an array with the reshape() method. An array of 15 numbers are reshaped into different 2D arrays."
   ]
  },
  {
   "cell_type": "code",
   "execution_count": 9,
   "metadata": {},
   "outputs": [
    {
     "data": {
      "text/plain": [
       "array([ 0,  1,  2,  3,  4,  5,  6,  7,  8,  9, 10, 11, 12, 13, 14])"
      ]
     },
     "execution_count": 9,
     "metadata": {},
     "output_type": "execute_result"
    }
   ],
   "source": [
    "a = np.arange(15)\n",
    "a"
   ]
  },
  {
   "cell_type": "code",
   "execution_count": 10,
   "metadata": {},
   "outputs": [
    {
     "data": {
      "text/plain": [
       "array([[ 0,  1,  2,  3,  4],\n",
       "       [ 5,  6,  7,  8,  9],\n",
       "       [10, 11, 12, 13, 14]])"
      ]
     },
     "execution_count": 10,
     "metadata": {},
     "output_type": "execute_result"
    }
   ],
   "source": [
    "b = a.reshape(3,5)\n",
    "b"
   ]
  },
  {
   "cell_type": "markdown",
   "metadata": {},
   "source": [
    "## Useful methods\n",
    "\n",
    "Here are some useful methods for arrays. First, finding the maximum with the **`max`** method. You can find the maximum for the entire array."
   ]
  },
  {
   "cell_type": "code",
   "execution_count": 11,
   "metadata": {},
   "outputs": [
    {
     "data": {
      "text/plain": [
       "array([[0.09531464, 0.45407896, 0.33258084],\n",
       "       [0.5293891 , 0.81802072, 0.13342315],\n",
       "       [0.00239596, 0.71652702, 0.30647033],\n",
       "       [0.75832804, 0.30178186, 0.93548787]])"
      ]
     },
     "execution_count": 11,
     "metadata": {},
     "output_type": "execute_result"
    }
   ],
   "source": [
    "a = np.random.rand(4,3)\n",
    "a"
   ]
  },
  {
   "cell_type": "code",
   "execution_count": 12,
   "metadata": {},
   "outputs": [
    {
     "data": {
      "text/plain": [
       "0.9354878740170088"
      ]
     },
     "execution_count": 12,
     "metadata": {},
     "output_type": "execute_result"
    }
   ],
   "source": [
    "a.max()"
   ]
  },
  {
   "cell_type": "markdown",
   "metadata": {},
   "source": [
    "Or for each row"
   ]
  },
  {
   "cell_type": "code",
   "execution_count": 13,
   "metadata": {},
   "outputs": [
    {
     "data": {
      "text/plain": [
       "array([0.45407896, 0.81802072, 0.71652702, 0.93548787])"
      ]
     },
     "execution_count": 13,
     "metadata": {},
     "output_type": "execute_result"
    }
   ],
   "source": [
    "a.max(axis=1)"
   ]
  },
  {
   "cell_type": "markdown",
   "metadata": {},
   "source": [
    "Or for each column"
   ]
  },
  {
   "cell_type": "code",
   "execution_count": 14,
   "metadata": {},
   "outputs": [
    {
     "data": {
      "text/plain": [
       "array([0.75832804, 0.81802072, 0.93548787])"
      ]
     },
     "execution_count": 14,
     "metadata": {},
     "output_type": "execute_result"
    }
   ],
   "source": [
    "a.max(axis=0)"
   ]
  },
  {
   "cell_type": "markdown",
   "metadata": {},
   "source": [
    "Besides the **`max()`** method, other useful methods include **`min`**, **`sum`**, **`mean`**, and **`std`**. You can try these methods on the array `a` above."
   ]
  },
  {
   "cell_type": "markdown",
   "metadata": {},
   "source": [
    "## Indexing and slicing\n",
    "\n",
    "You can index and slice an array just the same way as a list."
   ]
  },
  {
   "cell_type": "code",
   "execution_count": 15,
   "metadata": {},
   "outputs": [
    {
     "data": {
      "text/plain": [
       "array([ 0,  1,  4,  9, 16, 25, 36, 49, 64, 81])"
      ]
     },
     "execution_count": 15,
     "metadata": {},
     "output_type": "execute_result"
    }
   ],
   "source": [
    "x = np.arange(10)**2\n",
    "x"
   ]
  },
  {
   "cell_type": "code",
   "execution_count": 16,
   "metadata": {},
   "outputs": [
    {
     "data": {
      "text/plain": [
       "16"
      ]
     },
     "execution_count": 16,
     "metadata": {},
     "output_type": "execute_result"
    }
   ],
   "source": [
    "x[4]"
   ]
  },
  {
   "cell_type": "code",
   "execution_count": 18,
   "metadata": {},
   "outputs": [
    {
     "data": {
      "text/plain": [
       "array([16, 25, 36, 49, 64, 81])"
      ]
     },
     "execution_count": 18,
     "metadata": {},
     "output_type": "execute_result"
    }
   ],
   "source": [
    "x[4:]"
   ]
  },
  {
   "cell_type": "markdown",
   "metadata": {},
   "source": [
    "Unlike a list, you can also have a list of indices to access elements as well."
   ]
  },
  {
   "cell_type": "code",
   "execution_count": 19,
   "metadata": {},
   "outputs": [
    {
     "data": {
      "text/plain": [
       "array([ 1,  9, 49, 64])"
      ]
     },
     "execution_count": 19,
     "metadata": {},
     "output_type": "execute_result"
    }
   ],
   "source": [
    "x[[1,3,7,8]]"
   ]
  },
  {
   "cell_type": "code",
   "execution_count": 20,
   "metadata": {},
   "outputs": [
    {
     "data": {
      "text/plain": [
       "array([ 1,  1,  1, 81])"
      ]
     },
     "execution_count": 20,
     "metadata": {},
     "output_type": "execute_result"
    }
   ],
   "source": [
    "x[[1,1,1,9]]"
   ]
  },
  {
   "cell_type": "markdown",
   "metadata": {},
   "source": [
    "## Conditional indexing"
   ]
  },
  {
   "cell_type": "markdown",
   "metadata": {},
   "source": [
    "With an array, it is easy to generate a sub-array satisfying certain conditions. For\n",
    "example, lets say you have the following data."
   ]
  },
  {
   "cell_type": "code",
   "execution_count": 21,
   "metadata": {},
   "outputs": [
    {
     "name": "stdout",
     "output_type": "stream",
     "text": [
      "ID\tRT\tScore\n",
      "sub001\t98\t0\n",
      "sub001\t96\t0\n",
      "sub001\t86\t1\n",
      "sub005\t90\t0\n",
      "sub005\t95\t1\n",
      "sub005\t80\t0\n",
      "sub005\t117\t0\n",
      "sub010\t90\t0\n",
      "sub010\t114\t1\n",
      "sub010\t113\t0\n"
     ]
    }
   ],
   "source": [
    "import numpy as np\n",
    "\n",
    "subjID = np.array(['sub001']*3 + ['sub005']*4 + ['sub010']*3)\n",
    "RT = np.array([ 98,  96,  86,  90,  95,  80, 117,  90, 114, 113])\n",
    "score = np.array([0, 0, 1, 0, 1, 0, 0, 0, 1, 0])\n",
    "\n",
    "print('ID\\tRT\\tScore')\n",
    "for i,iID in enumerate(subjID):\n",
    "    print(iID, RT[i], score[i], sep='\\t')"
   ]
  },
  {
   "cell_type": "markdown",
   "metadata": {},
   "source": [
    "Then you can create sub-arrays based on a particular subject ID."
   ]
  },
  {
   "cell_type": "code",
   "execution_count": 22,
   "metadata": {},
   "outputs": [
    {
     "data": {
      "text/plain": [
       "array(['sub005', 'sub005', 'sub005', 'sub005'], dtype='<U6')"
      ]
     },
     "execution_count": 22,
     "metadata": {},
     "output_type": "execute_result"
    }
   ],
   "source": [
    "subjID[subjID=='sub005']"
   ]
  },
  {
   "cell_type": "code",
   "execution_count": 23,
   "metadata": {},
   "outputs": [
    {
     "data": {
      "text/plain": [
       "array([ 90,  95,  80, 117])"
      ]
     },
     "execution_count": 23,
     "metadata": {},
     "output_type": "execute_result"
    }
   ],
   "source": [
    "RT[subjID=='sub005']"
   ]
  },
  {
   "cell_type": "code",
   "execution_count": 24,
   "metadata": {},
   "outputs": [
    {
     "data": {
      "text/plain": [
       "array([0, 1, 0, 0])"
      ]
     },
     "execution_count": 24,
     "metadata": {},
     "output_type": "execute_result"
    }
   ],
   "source": [
    "score[subjID=='sub005']"
   ]
  },
  {
   "cell_type": "markdown",
   "metadata": {},
   "source": [
    "### Exercise\n",
    "**Mean RTs and scores**. You have two arrays of the same size."
   ]
  },
  {
   "cell_type": "code",
   "execution_count": 25,
   "metadata": {},
   "outputs": [],
   "source": [
    "import numpy as np\n",
    "\n",
    "RTMat = np.array([[111, 100,  86, 120,  91],\n",
    "                  [ 92,  83, 105, 103, 112],\n",
    "                  [117, 121, 124, 111, 110],\n",
    "                  [111,  86, 113,  88, 105]])\n",
    "scoreMat = np.array([[1, 0, 0, 0, 0],\n",
    "                     [0, 1, 1, 0, 1],\n",
    "                     [0, 1, 1, 0, 0],\n",
    "                     [0, 0, 1, 1, 0]])"
   ]
  },
  {
   "cell_type": "markdown",
   "metadata": {},
   "source": [
    "where **`RTMat`** corresponds to the response times (RT) in ms and **`scoreMat`**\n",
    "corresponds to the scores from the same experiment.\n",
    "\n",
    "1. **Mean RT**. Calculate the mean RT for observations with score =0. Do the same for observations with score = 1.<br>\n",
    "      ***Hint:*** *You can use the **`mean()`** method for an array*. \n",
    "    \n",
    "2. **Mean score**. Calculate the mean score for observations with `RT`>100ms."
   ]
  },
  {
   "cell_type": "markdown",
   "metadata": {},
   "source": [
    "***More information on NumPy can be found from my [intro Python coding class](https://github.com/sathayas/JupyterPythonFall2018/blob/master/NumPy.ipynb).***"
   ]
  },
  {
   "cell_type": "markdown",
   "metadata": {},
   "source": [
    "# Plotting data\n",
    "<hr style=\"height:1px;border:none\" />"
   ]
  },
  {
   "cell_type": "markdown",
   "metadata": {},
   "source": [
    "*If you want to generate plots within a Jupyter notebook document, then you must run this line before producing any plots.*"
   ]
  },
  {
   "cell_type": "code",
   "execution_count": 30,
   "metadata": {},
   "outputs": [],
   "source": [
    "%matplotlib inline"
   ]
  },
  {
   "cell_type": "markdown",
   "metadata": {},
   "source": [
    "The **`matplotlib`** library is a collection of functions for data visualization, such as scatter plots and bar graphs. Let's take a look at a simple example of a scatter plot."
   ]
  },
  {
   "cell_type": "code",
   "execution_count": 26,
   "metadata": {},
   "outputs": [],
   "source": [
    "import matplotlib.pyplot as plt\n",
    "import numpy as np\n",
    "\n",
    "# Generating simple data\n",
    "t = np.linspace(0,4*np.math.pi,64)\n",
    "y = np.sin(t)"
   ]
  },
  {
   "cell_type": "code",
   "execution_count": 27,
   "metadata": {},
   "outputs": [
    {
     "data": {
      "text/plain": [
       "array([ 0.        ,  0.1994662 ,  0.3989324 ,  0.5983986 ,  0.7978648 ,\n",
       "        0.997331  ,  1.1967972 ,  1.3962634 ,  1.5957296 ,  1.7951958 ,\n",
       "        1.994662  ,  2.1941282 ,  2.3935944 ,  2.5930606 ,  2.7925268 ,\n",
       "        2.991993  ,  3.1914592 ,  3.3909254 ,  3.5903916 ,  3.7898578 ,\n",
       "        3.989324  ,  4.1887902 ,  4.38825641,  4.58772261,  4.78718881,\n",
       "        4.98665501,  5.18612121,  5.38558741,  5.58505361,  5.78451981,\n",
       "        5.98398601,  6.18345221,  6.38291841,  6.58238461,  6.78185081,\n",
       "        6.98131701,  7.18078321,  7.38024941,  7.57971561,  7.77918181,\n",
       "        7.97864801,  8.17811421,  8.37758041,  8.57704661,  8.77651281,\n",
       "        8.97597901,  9.17544521,  9.37491141,  9.57437761,  9.77384381,\n",
       "        9.97331001, 10.17277621, 10.37224241, 10.57170861, 10.77117481,\n",
       "       10.97064101, 11.17010721, 11.36957341, 11.56903961, 11.76850581,\n",
       "       11.96797201, 12.16743821, 12.36690441, 12.56637061])"
      ]
     },
     "execution_count": 27,
     "metadata": {},
     "output_type": "execute_result"
    }
   ],
   "source": [
    "t"
   ]
  },
  {
   "cell_type": "code",
   "execution_count": 28,
   "metadata": {},
   "outputs": [
    {
     "data": {
      "text/plain": [
       "array([ 0.00000000e+00,  1.98146143e-01,  3.88434796e-01,  5.63320058e-01,\n",
       "        7.15866849e-01,  8.40025923e-01,  9.30873749e-01,  9.84807753e-01,\n",
       "        9.99689182e-01,  9.74927912e-01,  9.11505852e-01,  8.11938006e-01,\n",
       "        6.80172738e-01,  5.21435203e-01,  3.42020143e-01,  1.49042266e-01,\n",
       "       -4.98458857e-02, -2.46757398e-01, -4.33883739e-01, -6.03804410e-01,\n",
       "       -7.49781203e-01, -8.66025404e-01, -9.47927346e-01, -9.92239207e-01,\n",
       "       -9.97203797e-01, -9.62624247e-01, -8.89871809e-01, -7.81831482e-01,\n",
       "       -6.42787610e-01, -4.78253979e-01, -2.94755174e-01, -9.95678466e-02,\n",
       "        9.95678466e-02,  2.94755174e-01,  4.78253979e-01,  6.42787610e-01,\n",
       "        7.81831482e-01,  8.89871809e-01,  9.62624247e-01,  9.97203797e-01,\n",
       "        9.92239207e-01,  9.47927346e-01,  8.66025404e-01,  7.49781203e-01,\n",
       "        6.03804410e-01,  4.33883739e-01,  2.46757398e-01,  4.98458857e-02,\n",
       "       -1.49042266e-01, -3.42020143e-01, -5.21435203e-01, -6.80172738e-01,\n",
       "       -8.11938006e-01, -9.11505852e-01, -9.74927912e-01, -9.99689182e-01,\n",
       "       -9.84807753e-01, -9.30873749e-01, -8.40025923e-01, -7.15866849e-01,\n",
       "       -5.63320058e-01, -3.88434796e-01, -1.98146143e-01, -4.89858720e-16])"
      ]
     },
     "execution_count": 28,
     "metadata": {},
     "output_type": "execute_result"
    }
   ],
   "source": [
    "y"
   ]
  },
  {
   "cell_type": "code",
   "execution_count": 31,
   "metadata": {},
   "outputs": [
    {
     "data": {
      "image/png": "[encoded data removed]",
      "text/plain": [
       "<Figure size 432x288 with 1 Axes>"
      ]
     },
     "metadata": {
      "needs_background": "light"
     },
     "output_type": "display_data"
    }
   ],
   "source": [
    "# plotting the data\n",
    "plt.plot(t, y)\n",
    "plt.show()"
   ]
  },
  {
   "cell_type": "markdown",
   "metadata": {},
   "source": [
    "To generate a plot, we will use a sub-module called **`pyplot`** from `matplotlib`. This sub-module is imported as **`plt`**, just so that we don't have to type its full name. We are generating a simple data set to be plotted. To actually plot data, we use the **`plt.plot()`** function. The first input parameter is the data for the x-coordinate (`t` in this case), and the second input is the data for the y-coordinate (`y` in this case). After producing a plot with the `plt.plot()` function, we need to use **`plt.show()`** function to actually display the plot on the screen.\n",
    "\n",
    "## Changing plot symbols, colors, and lines\n",
    "\n",
    "By default, plt.plot() function plots data with blue lines. However, you can change the color and type of plot symbols. For example,\n"
   ]
  },
  {
   "cell_type": "code",
   "execution_count": 32,
   "metadata": {},
   "outputs": [
    {
     "data": {
      "image/png": "[encoded data removed]",
      "text/plain": [
       "<Figure size 432x288 with 1 Axes>"
      ]
     },
     "metadata": {
      "needs_background": "light"
     },
     "output_type": "display_data"
    }
   ],
   "source": [
    "import matplotlib.pyplot as plt\n",
    "import numpy as np\n",
    "\n",
    "# Generating simple data\n",
    "t = np.linspace(0,4*np.math.pi,64)\n",
    "y = np.sin(t)\n",
    "\n",
    "# plotting the data\n",
    "plt.plot(t, y, 'b-')\n",
    "plt.plot(t, y+0.2, 'g.')\n",
    "plt.plot(t, y+0.4, 'ro')\n",
    "plt.plot(t, y+0.6, 'cs')\n",
    "plt.plot(t, y+0.8, 'm^')\n",
    "plt.plot(t, y+1.0, 'yx')\n",
    "plt.plot(t, y+1.2, 'kD')\n",
    "plt.show()"
   ]
  },
  {
   "cell_type": "markdown",
   "metadata": {},
   "source": [
    "In the resulting figure, you see plots with different colors and different symbols. The color and the symbol are specified by a string, for example **`'b-'`**. The first character corresponds to the color, and the second character corresponds to the symbol. Here are examples of colors and symbols.\n",
    "\n",
    "<table style=\"width:200px\">\n",
    "  <tr>\n",
    "    <th style=\"text-align:center\">Character</th>\n",
    "    <th style=\"text-align:center\">Color</th> \n",
    "  </tr>\n",
    "  <tr> <td style=\"text-align:center\">b</td> <td style=\"text-align:center\">Blue</td> </tr>\n",
    "  <tr> <td style=\"text-align:center\">g</td> <td style=\"text-align:center\">Green</td> </tr>\n",
    "  <tr> <td style=\"text-align:center\">r</td> <td style=\"text-align:center\">Red</td> </tr>\n",
    "  <tr> <td style=\"text-align:center\">c</td> <td style=\"text-align:center\">Cyan</td> </tr>\n",
    "  <tr> <td style=\"text-align:center\">m</td> <td style=\"text-align:center\">Magenta</td> </tr>\n",
    "  <tr> <td style=\"text-align:center\">y</td> <td style=\"text-align:center\">Yellow</td> </tr>\n",
    "  <tr> <td style=\"text-align:center\">k</td> <td style=\"text-align:center\">Black</td> </tr>\n",
    "</table>\n",
    "\n",
    "<table style=\"width:200px\">\n",
    "  <tr>\n",
    "    <th style=\"text-align:center\">Character</th>\n",
    "    <th style=\"text-align:center\">Symbol</th> \n",
    "  </tr>\n",
    "  <tr> <td style=\"text-align:center\">-</td> <td style=\"text-align:center\">Line</td> </tr>\n",
    "  <tr> <td style=\"text-align:center\">.</td> <td style=\"text-align:center\">Dot</td> </tr>\n",
    "  <tr> <td style=\"text-align:center\">o</td> <td style=\"text-align:center\">Circle</td> </tr>\n",
    "  <tr> <td style=\"text-align:center\">s</td> <td style=\"text-align:center\">Square</td> </tr>\n",
    "  <tr> <td style=\"text-align:center\">^</td> <td style=\"text-align:center\">Triangle, up</td> </tr>\n",
    "  <tr> <td style=\"text-align:center\">D</td> <td style=\"text-align:center\">Diamond</td> </tr>\n",
    "</table>\n",
    "\n",
    "### Exercise\n",
    "**Plotting experiment data**. You have the data"
   ]
  },
  {
   "cell_type": "code",
   "execution_count": 33,
   "metadata": {},
   "outputs": [],
   "source": [
    "import matplotlib.pyplot as plt\n",
    "import numpy as np\n",
    "\n",
    "cond = np.array([1, 1, 1, 1, 1, 2, 2, 2, 2, 2, 3, 3, 3, 3, 3, 3])\n",
    "x = np.array([ 20, 40, 60, 80, 100, 20, 40, 60, 80, 100, 20, 40,\n",
    "               60, 80, 100, 120])\n",
    "y = np.array([109, 98, 121, 88, 109, 115, 133, 117, 122, 131,\n",
    "              133, 163, 153, 131, 159, 144])"
   ]
  },
  {
   "cell_type": "markdown",
   "metadata": {},
   "source": [
    "Plot how **`y`** (response time) changes at different **`x`** (onset time) for each condition (specified by array **`cond`**) separately with the following colors\n",
    "1. `cond == 1`: blue line\n",
    "2. `cond == 2`: magenta line\n",
    "3. `cond == 3`: black line"
   ]
  },
  {
   "cell_type": "markdown",
   "metadata": {},
   "source": [
    "## Axes, title, etc.\n",
    "\n",
    "Notice that your plot does not have a title, and axes do not have any label. You can add the title by **`plt.title()`**. You can also add x- and y-axis labels by **`plt.xlabel()`** and **`plt.ylabel()`**, respectively. For example,"
   ]
  },
  {
   "cell_type": "code",
   "execution_count": 34,
   "metadata": {},
   "outputs": [
    {
     "data": {
      "image/png": "[encoded data removed]",
      "text/plain": [
       "<Figure size 432x288 with 1 Axes>"
      ]
     },
     "metadata": {
      "needs_background": "light"
     },
     "output_type": "display_data"
    }
   ],
   "source": [
    "import matplotlib.pyplot as plt\n",
    "import numpy as np\n",
    "\n",
    "# Generating simple data\n",
    "t = np.linspace(0,4*np.math.pi,64)\n",
    "y = np.sin(t)\n",
    "\n",
    "# plot with title and axis labels\n",
    "plt.plot(t, y, 'b-')\n",
    "plt.title('Sine function')\n",
    "plt.ylabel('sin(t)')\n",
    "plt.xlabel('Angle t (radian)')\n",
    "plt.show()"
   ]
  },
  {
   "cell_type": "markdown",
   "metadata": {},
   "source": [
    "***More information on data visualization can be found from my [intro Python coding class](https://github.com/sathayas/JupyterPythonFall2018/blob/master/Plot.ipynb).***"
   ]
  },
  {
   "cell_type": "markdown",
   "metadata": {},
   "source": [
    "# Dataframe with `pandas`\n",
    "<hr style=\"height:1px;border:none\" />"
   ]
  },
  {
   "cell_type": "markdown",
   "metadata": {},
   "source": [
    "Say, you have a data set consisting of scores from the same subjects under 4 different conditions."
   ]
  },
  {
   "cell_type": "code",
   "execution_count": 35,
   "metadata": {},
   "outputs": [],
   "source": [
    "import numpy as np\n",
    "import pandas as pd\n",
    "\n",
    "# experiment data: Scores from\n",
    "#    control condition:  control\n",
    "#    condition A:        condA\n",
    "#    condition B:        condB\n",
    "#    condition C:        condC\n",
    "control = np.array([106,  96,  79, 110,  87,  81,  83,  68,  79,  57])\n",
    "condA = np.array([80, 70, 63, 73, 64, 78, 68, 45, 66, 56])\n",
    "condB = np.array([ 78,  97, 120,  92,  84, 116,  81,  81, 104,  82])\n",
    "condC = np.array([ 75,  49,  58, 115,  97,  95,  93,  66,  84,  67])"
   ]
  },
  {
   "cell_type": "markdown",
   "metadata": {},
   "source": [
    "You can treat them as 4 separate arrays. Or, you can treat them as a part of a one big data set, known as a **dataframe**. To do so, you need to use the **`Pandas`** library (imported as **`pd`** for short).  "
   ]
  },
  {
   "cell_type": "code",
   "execution_count": 36,
   "metadata": {},
   "outputs": [],
   "source": [
    "# concatenating the variables\n",
    "allData = np.vstack([control,condA,condB,condC]).T\n",
    "\n",
    "# creating a dataframe\n",
    "expScores = pd.DataFrame(allData, columns=['control','condA','condB','condC'])"
   ]
  },
  {
   "cell_type": "code",
   "execution_count": 37,
   "metadata": {},
   "outputs": [
    {
     "data": {
      "text/html": [
       "<div>\n",
       "<style scoped>\n",
       "    .dataframe tbody tr th:only-of-type {\n",
       "        vertical-align: middle;\n",
       "    }\n",
       "\n",
       "    .dataframe tbody tr th {\n",
       "        vertical-align: top;\n",
       "    }\n",
       "\n",
       "    .dataframe thead th {\n",
       "        text-align: right;\n",
       "    }\n",
       "</style>\n",
       "<table border=\"1\" class=\"dataframe\">\n",
       "  <thead>\n",
       "    <tr style=\"text-align: right;\">\n",
       "      <th></th>\n",
       "      <th>control</th>\n",
       "      <th>condA</th>\n",
       "      <th>condB</th>\n",
       "      <th>condC</th>\n",
       "    </tr>\n",
       "  </thead>\n",
       "  <tbody>\n",
       "    <tr>\n",
       "      <th>0</th>\n",
       "      <td>106</td>\n",
       "      <td>80</td>\n",
       "      <td>78</td>\n",
       "      <td>75</td>\n",
       "    </tr>\n",
       "    <tr>\n",
       "      <th>1</th>\n",
       "      <td>96</td>\n",
       "      <td>70</td>\n",
       "      <td>97</td>\n",
       "      <td>49</td>\n",
       "    </tr>\n",
       "    <tr>\n",
       "      <th>2</th>\n",
       "      <td>79</td>\n",
       "      <td>63</td>\n",
       "      <td>120</td>\n",
       "      <td>58</td>\n",
       "    </tr>\n",
       "    <tr>\n",
       "      <th>3</th>\n",
       "      <td>110</td>\n",
       "      <td>73</td>\n",
       "      <td>92</td>\n",
       "      <td>115</td>\n",
       "    </tr>\n",
       "    <tr>\n",
       "      <th>4</th>\n",
       "      <td>87</td>\n",
       "      <td>64</td>\n",
       "      <td>84</td>\n",
       "      <td>97</td>\n",
       "    </tr>\n",
       "    <tr>\n",
       "      <th>5</th>\n",
       "      <td>81</td>\n",
       "      <td>78</td>\n",
       "      <td>116</td>\n",
       "      <td>95</td>\n",
       "    </tr>\n",
       "    <tr>\n",
       "      <th>6</th>\n",
       "      <td>83</td>\n",
       "      <td>68</td>\n",
       "      <td>81</td>\n",
       "      <td>93</td>\n",
       "    </tr>\n",
       "    <tr>\n",
       "      <th>7</th>\n",
       "      <td>68</td>\n",
       "      <td>45</td>\n",
       "      <td>81</td>\n",
       "      <td>66</td>\n",
       "    </tr>\n",
       "    <tr>\n",
       "      <th>8</th>\n",
       "      <td>79</td>\n",
       "      <td>66</td>\n",
       "      <td>104</td>\n",
       "      <td>84</td>\n",
       "    </tr>\n",
       "    <tr>\n",
       "      <th>9</th>\n",
       "      <td>57</td>\n",
       "      <td>56</td>\n",
       "      <td>82</td>\n",
       "      <td>67</td>\n",
       "    </tr>\n",
       "  </tbody>\n",
       "</table>\n",
       "</div>"
      ],
      "text/plain": [
       "   control  condA  condB  condC\n",
       "0      106     80     78     75\n",
       "1       96     70     97     49\n",
       "2       79     63    120     58\n",
       "3      110     73     92    115\n",
       "4       87     64     84     97\n",
       "5       81     78    116     95\n",
       "6       83     68     81     93\n",
       "7       68     45     81     66\n",
       "8       79     66    104     84\n",
       "9       57     56     82     67"
      ]
     },
     "execution_count": 37,
     "metadata": {},
     "output_type": "execute_result"
    }
   ],
   "source": [
    "expScores"
   ]
  },
  {
   "cell_type": "markdown",
   "metadata": {},
   "source": [
    "Notice that, in a dataframe, each row consists of an observation with multiple values. Each column is a variable. If you are dealing with a large number of variables originating from the same individuals, it makes sense to handle that data set as a dataframe, as opposed to dealing with a number of separate arrays or lists.\n"
   ]
  },
  {
   "cell_type": "markdown",
   "metadata": {},
   "source": [
    "## Useful attributes and methods for dataframes"
   ]
  },
  {
   "cell_type": "markdown",
   "metadata": {},
   "source": [
    "There are some useful attributes and methods associated with a dataframe. You can examine the first few observations in a dataframe with **`head()`** method."
   ]
  },
  {
   "cell_type": "code",
   "execution_count": 39,
   "metadata": {},
   "outputs": [
    {
     "data": {
      "text/html": [
       "<div>\n",
       "<style scoped>\n",
       "    .dataframe tbody tr th:only-of-type {\n",
       "        vertical-align: middle;\n",
       "    }\n",
       "\n",
       "    .dataframe tbody tr th {\n",
       "        vertical-align: top;\n",
       "    }\n",
       "\n",
       "    .dataframe thead th {\n",
       "        text-align: right;\n",
       "    }\n",
       "</style>\n",
       "<table border=\"1\" class=\"dataframe\">\n",
       "  <thead>\n",
       "    <tr style=\"text-align: right;\">\n",
       "      <th></th>\n",
       "      <th>control</th>\n",
       "      <th>condA</th>\n",
       "      <th>condB</th>\n",
       "      <th>condC</th>\n",
       "    </tr>\n",
       "  </thead>\n",
       "  <tbody>\n",
       "    <tr>\n",
       "      <th>0</th>\n",
       "      <td>106</td>\n",
       "      <td>80</td>\n",
       "      <td>78</td>\n",
       "      <td>75</td>\n",
       "    </tr>\n",
       "    <tr>\n",
       "      <th>1</th>\n",
       "      <td>96</td>\n",
       "      <td>70</td>\n",
       "      <td>97</td>\n",
       "      <td>49</td>\n",
       "    </tr>\n",
       "    <tr>\n",
       "      <th>2</th>\n",
       "      <td>79</td>\n",
       "      <td>63</td>\n",
       "      <td>120</td>\n",
       "      <td>58</td>\n",
       "    </tr>\n",
       "    <tr>\n",
       "      <th>3</th>\n",
       "      <td>110</td>\n",
       "      <td>73</td>\n",
       "      <td>92</td>\n",
       "      <td>115</td>\n",
       "    </tr>\n",
       "    <tr>\n",
       "      <th>4</th>\n",
       "      <td>87</td>\n",
       "      <td>64</td>\n",
       "      <td>84</td>\n",
       "      <td>97</td>\n",
       "    </tr>\n",
       "  </tbody>\n",
       "</table>\n",
       "</div>"
      ],
      "text/plain": [
       "   control  condA  condB  condC\n",
       "0      106     80     78     75\n",
       "1       96     70     97     49\n",
       "2       79     63    120     58\n",
       "3      110     73     92    115\n",
       "4       87     64     84     97"
      ]
     },
     "execution_count": 39,
     "metadata": {},
     "output_type": "execute_result"
    }
   ],
   "source": [
    "expScores.head()"
   ]
  },
  {
   "cell_type": "markdown",
   "metadata": {},
   "source": [
    "To get names of the columns, you can use **`columns`**."
   ]
  },
  {
   "cell_type": "code",
   "execution_count": 40,
   "metadata": {},
   "outputs": [
    {
     "data": {
      "text/plain": [
       "Index(['control', 'condA', 'condB', 'condC'], dtype='object')"
      ]
     },
     "execution_count": 40,
     "metadata": {},
     "output_type": "execute_result"
    }
   ],
   "source": [
    "expScores.columns"
   ]
  },
  {
   "cell_type": "markdown",
   "metadata": {},
   "source": [
    "You can get some basic descriptive statistics for each column by using the **`describe()`** method."
   ]
  },
  {
   "cell_type": "code",
   "execution_count": 41,
   "metadata": {},
   "outputs": [
    {
     "data": {
      "text/html": [
       "<div>\n",
       "<style scoped>\n",
       "    .dataframe tbody tr th:only-of-type {\n",
       "        vertical-align: middle;\n",
       "    }\n",
       "\n",
       "    .dataframe tbody tr th {\n",
       "        vertical-align: top;\n",
       "    }\n",
       "\n",
       "    .dataframe thead th {\n",
       "        text-align: right;\n",
       "    }\n",
       "</style>\n",
       "<table border=\"1\" class=\"dataframe\">\n",
       "  <thead>\n",
       "    <tr style=\"text-align: right;\">\n",
       "      <th></th>\n",
       "      <th>control</th>\n",
       "      <th>condA</th>\n",
       "      <th>condB</th>\n",
       "      <th>condC</th>\n",
       "    </tr>\n",
       "  </thead>\n",
       "  <tbody>\n",
       "    <tr>\n",
       "      <th>count</th>\n",
       "      <td>10.000000</td>\n",
       "      <td>10.000000</td>\n",
       "      <td>10.000000</td>\n",
       "      <td>10.000000</td>\n",
       "    </tr>\n",
       "    <tr>\n",
       "      <th>mean</th>\n",
       "      <td>84.600000</td>\n",
       "      <td>66.300000</td>\n",
       "      <td>93.500000</td>\n",
       "      <td>79.900000</td>\n",
       "    </tr>\n",
       "    <tr>\n",
       "      <th>std</th>\n",
       "      <td>16.174053</td>\n",
       "      <td>10.339246</td>\n",
       "      <td>15.306135</td>\n",
       "      <td>20.436623</td>\n",
       "    </tr>\n",
       "    <tr>\n",
       "      <th>min</th>\n",
       "      <td>57.000000</td>\n",
       "      <td>45.000000</td>\n",
       "      <td>78.000000</td>\n",
       "      <td>49.000000</td>\n",
       "    </tr>\n",
       "    <tr>\n",
       "      <th>25%</th>\n",
       "      <td>79.000000</td>\n",
       "      <td>63.250000</td>\n",
       "      <td>81.250000</td>\n",
       "      <td>66.250000</td>\n",
       "    </tr>\n",
       "    <tr>\n",
       "      <th>50%</th>\n",
       "      <td>82.000000</td>\n",
       "      <td>67.000000</td>\n",
       "      <td>88.000000</td>\n",
       "      <td>79.500000</td>\n",
       "    </tr>\n",
       "    <tr>\n",
       "      <th>75%</th>\n",
       "      <td>93.750000</td>\n",
       "      <td>72.250000</td>\n",
       "      <td>102.250000</td>\n",
       "      <td>94.500000</td>\n",
       "    </tr>\n",
       "    <tr>\n",
       "      <th>max</th>\n",
       "      <td>110.000000</td>\n",
       "      <td>80.000000</td>\n",
       "      <td>120.000000</td>\n",
       "      <td>115.000000</td>\n",
       "    </tr>\n",
       "  </tbody>\n",
       "</table>\n",
       "</div>"
      ],
      "text/plain": [
       "          control      condA       condB       condC\n",
       "count   10.000000  10.000000   10.000000   10.000000\n",
       "mean    84.600000  66.300000   93.500000   79.900000\n",
       "std     16.174053  10.339246   15.306135   20.436623\n",
       "min     57.000000  45.000000   78.000000   49.000000\n",
       "25%     79.000000  63.250000   81.250000   66.250000\n",
       "50%     82.000000  67.000000   88.000000   79.500000\n",
       "75%     93.750000  72.250000  102.250000   94.500000\n",
       "max    110.000000  80.000000  120.000000  115.000000"
      ]
     },
     "execution_count": 41,
     "metadata": {},
     "output_type": "execute_result"
    }
   ],
   "source": [
    "expScores.describe()"
   ]
  },
  {
   "cell_type": "markdown",
   "metadata": {},
   "source": [
    "You can sort the entire dataframe based on a variable using **`sort_values()`** method. For example, we can sort the data with the scores from variable `control` in ascending order. "
   ]
  },
  {
   "cell_type": "code",
   "execution_count": 43,
   "metadata": {},
   "outputs": [
    {
     "data": {
      "text/html": [
       "<div>\n",
       "<style scoped>\n",
       "    .dataframe tbody tr th:only-of-type {\n",
       "        vertical-align: middle;\n",
       "    }\n",
       "\n",
       "    .dataframe tbody tr th {\n",
       "        vertical-align: top;\n",
       "    }\n",
       "\n",
       "    .dataframe thead th {\n",
       "        text-align: right;\n",
       "    }\n",
       "</style>\n",
       "<table border=\"1\" class=\"dataframe\">\n",
       "  <thead>\n",
       "    <tr style=\"text-align: right;\">\n",
       "      <th></th>\n",
       "      <th>control</th>\n",
       "      <th>condA</th>\n",
       "      <th>condB</th>\n",
       "      <th>condC</th>\n",
       "    </tr>\n",
       "  </thead>\n",
       "  <tbody>\n",
       "    <tr>\n",
       "      <th>9</th>\n",
       "      <td>57</td>\n",
       "      <td>56</td>\n",
       "      <td>82</td>\n",
       "      <td>67</td>\n",
       "    </tr>\n",
       "    <tr>\n",
       "      <th>7</th>\n",
       "      <td>68</td>\n",
       "      <td>45</td>\n",
       "      <td>81</td>\n",
       "      <td>66</td>\n",
       "    </tr>\n",
       "    <tr>\n",
       "      <th>2</th>\n",
       "      <td>79</td>\n",
       "      <td>63</td>\n",
       "      <td>120</td>\n",
       "      <td>58</td>\n",
       "    </tr>\n",
       "    <tr>\n",
       "      <th>8</th>\n",
       "      <td>79</td>\n",
       "      <td>66</td>\n",
       "      <td>104</td>\n",
       "      <td>84</td>\n",
       "    </tr>\n",
       "    <tr>\n",
       "      <th>5</th>\n",
       "      <td>81</td>\n",
       "      <td>78</td>\n",
       "      <td>116</td>\n",
       "      <td>95</td>\n",
       "    </tr>\n",
       "    <tr>\n",
       "      <th>6</th>\n",
       "      <td>83</td>\n",
       "      <td>68</td>\n",
       "      <td>81</td>\n",
       "      <td>93</td>\n",
       "    </tr>\n",
       "    <tr>\n",
       "      <th>4</th>\n",
       "      <td>87</td>\n",
       "      <td>64</td>\n",
       "      <td>84</td>\n",
       "      <td>97</td>\n",
       "    </tr>\n",
       "    <tr>\n",
       "      <th>1</th>\n",
       "      <td>96</td>\n",
       "      <td>70</td>\n",
       "      <td>97</td>\n",
       "      <td>49</td>\n",
       "    </tr>\n",
       "    <tr>\n",
       "      <th>0</th>\n",
       "      <td>106</td>\n",
       "      <td>80</td>\n",
       "      <td>78</td>\n",
       "      <td>75</td>\n",
       "    </tr>\n",
       "    <tr>\n",
       "      <th>3</th>\n",
       "      <td>110</td>\n",
       "      <td>73</td>\n",
       "      <td>92</td>\n",
       "      <td>115</td>\n",
       "    </tr>\n",
       "  </tbody>\n",
       "</table>\n",
       "</div>"
      ],
      "text/plain": [
       "   control  condA  condB  condC\n",
       "9       57     56     82     67\n",
       "7       68     45     81     66\n",
       "2       79     63    120     58\n",
       "8       79     66    104     84\n",
       "5       81     78    116     95\n",
       "6       83     68     81     93\n",
       "4       87     64     84     97\n",
       "1       96     70     97     49\n",
       "0      106     80     78     75\n",
       "3      110     73     92    115"
      ]
     },
     "execution_count": 43,
     "metadata": {},
     "output_type": "execute_result"
    }
   ],
   "source": [
    "expScores.sort_values(by='control')"
   ]
  },
  {
   "cell_type": "markdown",
   "metadata": {},
   "source": [
    "* Indexing and slicing\n",
    "* Reading and writing CSV"
   ]
  }
 ],
 "metadata": {
  "kernelspec": {
   "display_name": "Python 3",
   "language": "python",
   "name": "python3"
  },
  "language_info": {
   "codemirror_mode": {
    "name": "ipython",
    "version": 3
   },
   "file_extension": ".py",
   "mimetype": "text/x-python",
   "name": "python",
   "nbconvert_exporter": "python",
   "pygments_lexer": "ipython3",
   "version": "3.6.7"
  }
 },
 "nbformat": 4,
 "nbformat_minor": 2
}
